{
 "cells": [
  {
   "cell_type": "markdown",
   "metadata": {},
   "source": [
    "Question 1: Load a CSV file containing a dataset into a Pandas DataFrame. Display the first few rows to understand its basic structure."
   ]
  },
  {
   "cell_type": "code",
   "execution_count": 1,
   "metadata": {},
   "outputs": [
    {
     "name": "stdout",
     "output_type": "stream",
     "text": [
      "File not found: your_dataset.csv. Please check the file path and try again.\n"
     ]
    }
   ],
   "source": [
    "# Write your code from here\n",
    "# Load a CSV file into a Pandas DataFrame and display the first few rows\n",
    "\n",
    "import pandas as pd\n",
    "\n",
    "# Update the file path to your actual CSV file, e.g., 'data/your_file.csv'\n",
    "csv_path = 'your_dataset.csv'  # Change this to your real file path\n",
    "\n",
    "try:\n",
    "    df = pd.read_csv(csv_path)\n",
    "    print(df.head())\n",
    "except FileNotFoundError:\n",
    "    print(f\"File not found: {csv_path}. Please check the file path and try again.\")"
   ]
  },
  {
   "cell_type": "markdown",
   "metadata": {},
   "source": [
    "Question 2: Determine the number of rows and columns in the dataset."
   ]
  },
  {
   "cell_type": "code",
   "execution_count": 2,
   "metadata": {},
   "outputs": [
    {
     "name": "stdout",
     "output_type": "stream",
     "text": [
      "DataFrame 'df' is not defined. Please load the dataset first.\n"
     ]
    }
   ],
   "source": [
    "# Write your code from here\n",
    "# Determine the number of rows and columns in the dataset\n",
    "\n",
    "if 'df' in locals():\n",
    "    print(f\"Rows: {df.shape[0]}, Columns: {df.shape[1]}\")\n",
    "else:\n",
    "    print(\"DataFrame 'df' is not defined. Please load the dataset first.\")"
   ]
  },
  {
   "cell_type": "markdown",
   "metadata": {},
   "source": [
    "Question 3: Identify the data type of each column in the dataset."
   ]
  },
  {
   "cell_type": "code",
   "execution_count": 3,
   "metadata": {},
   "outputs": [
    {
     "name": "stdout",
     "output_type": "stream",
     "text": [
      "DataFrame 'df' is not defined. Please load the dataset first.\n"
     ]
    }
   ],
   "source": [
    "# Write your code from here\n",
    "# Identify the data type of each column in the dataset\n",
    "\n",
    "if 'df' in locals():\n",
    "    print(df.dtypes)\n",
    "else:\n",
    "    print(\"DataFrame 'df' is not defined. Please load the dataset first.\")"
   ]
  },
  {
   "cell_type": "markdown",
   "metadata": {},
   "source": [
    "Question 4: Generate summary statistics for the numerical columns in the dataset."
   ]
  },
  {
   "cell_type": "code",
   "execution_count": 4,
   "metadata": {},
   "outputs": [
    {
     "name": "stdout",
     "output_type": "stream",
     "text": [
      "DataFrame 'df' is not defined. Please load the dataset first.\n"
     ]
    }
   ],
   "source": [
    "# Write your code from here\n",
    "# Generate summary statistics for the numerical columns in the dataset\n",
    "\n",
    "if 'df' in locals():\n",
    "    print(df.describe())\n",
    "else:\n",
    "    print(\"DataFrame 'df' is not defined. Please load the dataset first.\")"
   ]
  },
  {
   "cell_type": "markdown",
   "metadata": {},
   "source": [
    "Question 5: Identify columns with missing values and count the number of missing values in each."
   ]
  },
  {
   "cell_type": "code",
   "execution_count": 5,
   "metadata": {},
   "outputs": [
    {
     "name": "stdout",
     "output_type": "stream",
     "text": [
      "DataFrame 'df' is not defined. Please load the dataset first.\n"
     ]
    }
   ],
   "source": [
    "# Write your code from here\n",
    "# Identify columns with missing values and count the number of missing values in each\n",
    "\n",
    "if 'df' in locals():\n",
    "    missing_counts = df.isnull().sum()\n",
    "    print(missing_counts[missing_counts > 0])\n",
    "else:\n",
    "    print(\"DataFrame 'df' is not defined. Please load the dataset first.\")"
   ]
  },
  {
   "cell_type": "markdown",
   "metadata": {},
   "source": [
    "Question 6: Replace missing values in a column with the median value of that column."
   ]
  },
  {
   "cell_type": "code",
   "execution_count": 6,
   "metadata": {},
   "outputs": [
    {
     "name": "stdout",
     "output_type": "stream",
     "text": [
      "DataFrame 'df' is not defined. Please load the dataset first.\n"
     ]
    }
   ],
   "source": [
    "# Write your code from here\n",
    "# Replace missing values in a column with the median value of that column\n",
    "\n",
    "# Example: Replace missing values in the 'price' column with its median\n",
    "column_name = 'price'  # Change this to your target column\n",
    "\n",
    "if 'df' in locals():\n",
    "    if column_name in df.columns:\n",
    "        median_value = df[column_name].median()\n",
    "        df[column_name].fillna(median_value, inplace=True)\n",
    "        print(f\"Missing values in '{column_name}' replaced with median: {median_value}\")\n",
    "    else:\n",
    "        print(f\"Column '{column_name}' not found in the DataFrame.\")\n",
    "else:\n",
    "    print(\"DataFrame 'df' is not defined. Please load the dataset first.\")"
   ]
  },
  {
   "cell_type": "markdown",
   "metadata": {},
   "source": [
    "Question 7: Remove duplicate rows from the dataset."
   ]
  },
  {
   "cell_type": "code",
   "execution_count": 7,
   "metadata": {},
   "outputs": [
    {
     "name": "stdout",
     "output_type": "stream",
     "text": [
      "DataFrame 'df' is not defined. Please load the dataset first.\n"
     ]
    }
   ],
   "source": [
    "# Write your code from here\n",
    "# Remove duplicate rows from the dataset\n",
    "\n",
    "if 'df' in locals():\n",
    "    before = df.shape[0]\n",
    "    df.drop_duplicates(inplace=True)\n",
    "    after = df.shape[0]\n",
    "    print(f\"Removed {before - after} duplicate rows. New total rows: {after}\")\n",
    "else:\n",
    "    print(\"DataFrame 'df' is not defined. Please load the dataset first.\")"
   ]
  },
  {
   "cell_type": "markdown",
   "metadata": {},
   "source": [
    "Question 8: Create a histogram to visualize the distribution of a numerical column (e.g., 'price')."
   ]
  },
  {
   "cell_type": "code",
   "execution_count": 8,
   "metadata": {},
   "outputs": [
    {
     "name": "stdout",
     "output_type": "stream",
     "text": [
      "DataFrame 'df' is not defined. Please load the dataset first.\n"
     ]
    }
   ],
   "source": [
    "# Write your code from here\n",
    "# Create a histogram to visualize the distribution of a numerical column (e.g., 'price')\n",
    "\n",
    "import matplotlib.pyplot as plt\n",
    "\n",
    "column_name = 'price'  # Change this to your target numerical column\n",
    "\n",
    "if 'df' in locals():\n",
    "    if column_name in df.columns:\n",
    "        plt.figure(figsize=(8, 5))\n",
    "        plt.hist(df[column_name].dropna(), bins=30, color='skyblue', edgecolor='black')\n",
    "        plt.title(f'Histogram of {column_name}')\n",
    "        plt.xlabel(column_name)\n",
    "        plt.ylabel('Frequency')\n",
    "        plt.show()\n",
    "    else:\n",
    "        print(f\"Column '{column_name}' not found in the DataFrame.\")\n",
    "else:\n",
    "    print(\"DataFrame 'df' is not defined. Please load the dataset first.\")"
   ]
  },
  {
   "cell_type": "markdown",
   "metadata": {},
   "source": [
    "Question 9: Create a scatter plot to visualize the relationship between two numerical variables"
   ]
  },
  {
   "cell_type": "code",
   "execution_count": 9,
   "metadata": {},
   "outputs": [
    {
     "name": "stdout",
     "output_type": "stream",
     "text": [
      "DataFrame 'df' is not defined. Please load the dataset first.\n"
     ]
    }
   ],
   "source": [
    "# Write your code from here\n",
    "# Create a scatter plot to visualize the relationship between two numerical variables\n",
    "\n",
    "import matplotlib.pyplot as plt\n",
    "\n",
    "x_col = 'price'      # Change this to your desired x-axis column\n",
    "y_col = 'quantity'   # Change this to your desired y-axis column\n",
    "\n",
    "if 'df' in locals():\n",
    "    if x_col in df.columns and y_col in df.columns:\n",
    "        plt.figure(figsize=(8, 5))\n",
    "        plt.scatter(df[x_col], df[y_col], alpha=0.6, color='teal', edgecolor='k')\n",
    "        plt.title(f'Scatter Plot: {x_col} vs {y_col}')\n",
    "        plt.xlabel(x_col)\n",
    "        plt.ylabel(y_col)\n",
    "        plt.show()\n",
    "    else:\n",
    "        print(f\"Columns '{x_col}' and/or '{y_col}' not found in the DataFrame.\")\n",
    "else:\n",
    "    print(\"DataFrame 'df' is not defined. Please load the dataset first.\")"
   ]
  },
  {
   "cell_type": "markdown",
   "metadata": {},
   "source": [
    "Question 10: Visualize the correlation matrix of the dataset using a heatmap."
   ]
  },
  {
   "cell_type": "code",
   "execution_count": 11,
   "metadata": {},
   "outputs": [
    {
     "name": "stdout",
     "output_type": "stream",
     "text": [
      "DataFrame 'df' is not defined. Please load the dataset first.\n"
     ]
    }
   ],
   "source": [
    "# Write your code from here\n",
    "# Visualize the correlation matrix of the dataset using a heatmap\n",
    "\n",
    "import matplotlib.pyplot as plt\n",
    "import seaborn as sns\n",
    "\n",
    "if 'df' in locals():\n",
    "    corr_matrix = df.corr(numeric_only=True)\n",
    "    plt.figure(figsize=(10, 8))\n",
    "    sns.heatmap(corr_matrix, annot=True, cmap='coolwarm', fmt=\".2f\", linewidths=0.5)\n",
    "    plt.title('Correlation Matrix Heatmap')\n",
    "    plt.show()\n",
    "else:\n",
    "    print(\"DataFrame 'df' is not defined. Please load the dataset first.\")\n"
   ]
  }
 ],
 "metadata": {
  "kernelspec": {
   "display_name": "Python 3",
   "language": "python",
   "name": "python3"
  },
  "language_info": {
   "codemirror_mode": {
    "name": "ipython",
    "version": 3
   },
   "file_extension": ".py",
   "mimetype": "text/x-python",
   "name": "python",
   "nbconvert_exporter": "python",
   "pygments_lexer": "ipython3",
   "version": "3.10.12"
  }
 },
 "nbformat": 4,
 "nbformat_minor": 2
}
