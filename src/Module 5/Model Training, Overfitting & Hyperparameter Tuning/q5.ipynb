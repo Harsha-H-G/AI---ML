{
 "cells": [
  {
   "cell_type": "markdown",
   "metadata": {},
   "source": [
    "Question 8: Logistic Regression with L1 Regularization<br>\n",
    "Task: Implement logistic regression with L1 regularization and observe the effect on feature selection."
   ]
  },
  {
   "cell_type": "code",
   "execution_count": 2,
   "metadata": {},
   "outputs": [
    {
     "name": "stdout",
     "output_type": "stream",
     "text": [
      "X1: 2.136\n",
      "X2: -3.712\n",
      "X3: 1.615\n",
      "X4: 0.165\n",
      "X5: 0.000\n",
      "X6: -0.144\n",
      "X7: 0.000\n",
      "X8: 0.000\n",
      "X9: 0.087\n",
      "X10: 0.092\n",
      "X11: -0.377\n",
      "X12: 0.000\n",
      "\n",
      "Number of features selected (non-zero coefficients): 8 out of 12\n"
     ]
    }
   ],
   "source": [
    "# Implement logistic regression with L1 regularization and observe the effect on feature selection\n",
    "\n",
    "import numpy as np\n",
    "import pandas as pd\n",
    "from sklearn.linear_model import LogisticRegression\n",
    "from sklearn.model_selection import train_test_split\n",
    "\n",
    "# Create a synthetic dataset with many features, only a few are informative\n",
    "np.random.seed(42)\n",
    "n_samples = 100\n",
    "n_features = 12\n",
    "\n",
    "# Only first 3 features are informative\n",
    "X = np.random.randn(n_samples, n_features)\n",
    "true_coefs = np.array([2, -3, 1.5] + [0]*(n_features-3))\n",
    "y = (X @ true_coefs + np.random.randn(n_samples) * 0.5 > 0).astype(int)\n",
    "\n",
    "df = pd.DataFrame(X, columns=[f'X{i+1}' for i in range(n_features)])\n",
    "\n",
    "# Split into train and test sets\n",
    "X_train, X_test, y_train, y_test = train_test_split(df, y, test_size=0.2, random_state=42)\n",
    "\n",
    "# Fit logistic regression with L1 regularization (Lasso)\n",
    "logreg_l1 = LogisticRegression(penalty='l1', solver='liblinear', C=1.0, random_state=42)\n",
    "logreg_l1.fit(X_train, y_train)\n",
    "\n",
    "# Show coefficients\n",
    "coefs = logreg_l1.coef_[0]\n",
    "for name, coef in zip(df.columns, coefs):\n",
    "    print(f\"{name}: {coef:.3f}\")\n",
    "\n",
    "# Count number of selected (non-zero) features\n",
    "num_selected = np.sum(coefs != 0)\n",
    "print(f\"\\nNumber of features selected (non-zero coefficients): {num_selected} out of {n_features}\")"
   ]
  }
 ],
 "metadata": {
  "kernelspec": {
   "display_name": "Python 3",
   "language": "python",
   "name": "python3"
  },
  "language_info": {
   "codemirror_mode": {
    "name": "ipython",
    "version": 3
   },
   "file_extension": ".py",
   "mimetype": "text/x-python",
   "name": "python",
   "nbconvert_exporter": "python",
   "pygments_lexer": "ipython3",
   "version": "3.10.12"
  }
 },
 "nbformat": 4,
 "nbformat_minor": 2
}
