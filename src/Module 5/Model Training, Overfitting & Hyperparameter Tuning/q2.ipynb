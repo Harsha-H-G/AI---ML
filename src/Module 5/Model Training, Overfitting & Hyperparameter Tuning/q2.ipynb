{
 "cells": [
  {
   "cell_type": "markdown",
   "metadata": {},
   "source": [
    "Question 2: Introduction to Regularization with Ridge Regression<br>\n",
    "Task: Use Ridge regression on a noisy dataset and evaluate improvements over simple linear\n",
    "regression due to regularization."
   ]
  },
  {
   "cell_type": "code",
   "execution_count": null,
   "metadata": {},
   "outputs": [],
   "source": [
    "# Use Ridge regression on a noisy dataset and evaluate improvements over simple linear regression\n",
    "\n",
    "import numpy as np\n",
    "import matplotlib.pyplot as plt\n",
    "from sklearn.linear_model import LinearRegression, Ridge\n",
    "from sklearn.metrics import mean_squared_error\n",
    "\n",
    "# Create a noisy dataset\n",
    "np.random.seed(42)\n",
    "X = 2 * np.random.rand(100, 1)\n",
    "y = 4 + 3 * X.flatten() + np.random.randn(100) * 2  # Linear relation with noise\n",
    "\n",
    "# Fit simple linear regression\n",
    "lin_reg = LinearRegression()\n",
    "lin_reg.fit(X, y)\n",
    "y_pred_lin = lin_reg.predict(X)\n",
    "mse_lin = mean_squared_error(y, y_pred_lin)\n",
    "\n",
    "# Fit Ridge regression\n",
    "ridge_reg = Ridge(alpha=1.0)\n",
    "ridge_reg.fit(X, y)\n",
    "y_pred_ridge = ridge_reg.predict(X)\n",
    "mse_ridge = mean_squared_error(y, y_pred_ridge)\n",
    "\n",
    "# Plot results\n",
    "plt.figure(figsize=(8, 5))\n",
    "plt.scatter(X, y, color='gray', label='Noisy data')\n",
    "plt.plot(X, y_pred_lin, color='blue', label=f'Linear Regression (MSE={mse_lin:.2f})')\n",
    "plt.plot(X, y_pred_ridge, color='red', linestyle='--', label=f'Ridge Regression (MSE={mse_ridge:.2f})')\n",
    "plt.xlabel('X')\n",
    "plt.ylabel('y')\n",
    "plt.title('Linear vs Ridge Regression on Noisy Data')\n",
    "plt.legend()\n",
    "plt.show()\n",
    "\n",
    "print(f\"Linear Regression MSE: {mse_lin:.2f}\")\n",
    "print(f\"Ridge Regression MSE: {mse_ridge:.2f}\")"
   ]
  }
 ],
 "metadata": {
  "kernelspec": {
   "display_name": "Python 3",
   "language": "python",
   "name": "python3"
  },
  "language_info": {
   "codemirror_mode": {
    "name": "ipython",
    "version": 3
   },
   "file_extension": ".py",
   "mimetype": "text/x-python",
   "name": "python",
   "nbconvert_exporter": "python",
   "pygments_lexer": "ipython3",
   "version": "3.10.12"
  }
 },
 "nbformat": 4,
 "nbformat_minor": 2
}
