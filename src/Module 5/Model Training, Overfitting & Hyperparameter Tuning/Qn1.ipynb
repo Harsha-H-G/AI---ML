{
 "cells": [
  {
   "cell_type": "markdown",
   "metadata": {},
   "source": [
    "Title: Data Splitting (Train-Test-Validation)"
   ]
  },
  {
   "cell_type": "markdown",
   "metadata": {},
   "source": [
    "\n",
    "Task 1: House Prices Dataset (Regression)<br>\n",
    "Use the House Prices dataset to predict house prices.<br>\n",
    "Split the data into training, validation, and test sets (70% train, 15% validation, 15% test)."
   ]
  },
  {
   "cell_type": "code",
   "execution_count": 1,
   "metadata": {},
   "outputs": [
    {
     "name": "stdout",
     "output_type": "stream",
     "text": [
      "Train set size: 7\n",
      "Validation set size: 1\n",
      "Test set size: 2\n"
     ]
    }
   ],
   "source": [
    "# House Prices Dataset - Data Splitting (Train, Validation, Test)\n",
    "\n",
    "import pandas as pd\n",
    "from sklearn.model_selection import train_test_split\n",
    "\n",
    "# Example: Simulated house prices dataset (replace with actual dataset as needed)\n",
    "data = {\n",
    "    'SquareFootage': [1400, 1600, 1700, 1875, 1100, 1550, 2350, 2450, 1425, 1700],\n",
    "    'Bedrooms': [3, 3, 2, 4, 2, 3, 4, 4, 2, 3],\n",
    "    'Age': [20, 15, 18, 10, 25, 12, 5, 7, 30, 16],\n",
    "    'Price': [245000, 312000, 279000, 308000, 199000, 219000, 405000, 324000, 220000, 295000]\n",
    "}\n",
    "df = pd.DataFrame(data)\n",
    "\n",
    "# Features and target\n",
    "X = df.drop('Price', axis=1)\n",
    "y = df['Price']\n",
    "\n",
    "# First split: train (70%) and temp (30%)\n",
    "X_train, X_temp, y_train, y_temp = train_test_split(\n",
    "    X, y, test_size=0.3, random_state=42\n",
    ")\n",
    "\n",
    "# Second split: validation (15%) and test (15%) from temp (which is 30% of data)\n",
    "X_val, X_test, y_val, y_test = train_test_split(\n",
    "    X_temp, y_temp, test_size=0.5, random_state=42\n",
    ")\n",
    "\n",
    "print(\"Train set size:\", X_train.shape[0])\n",
    "print(\"Validation set size:\", X_val.shape[0])\n",
    "print(\"Test set size:\", X_test.shape[0])"
   ]
  },
  {
   "cell_type": "markdown",
   "metadata": {},
   "source": [
    "Task 2: Iris Dataset (Classification)<br>\n",
    "Apply data splitting to the Iris dataset.<br>\n",
    "Split it into train (70%), validation (15%), and test (15%).\n"
   ]
  },
  {
   "cell_type": "code",
   "execution_count": 2,
   "metadata": {},
   "outputs": [
    {
     "name": "stdout",
     "output_type": "stream",
     "text": [
      "Train set size: 105\n",
      "Validation set size: 22\n",
      "Test set size: 23\n"
     ]
    }
   ],
   "source": [
    "# Iris Dataset - Data Splitting (Train, Validation, Test)\n",
    "\n",
    "from sklearn.datasets import load_iris\n",
    "from sklearn.model_selection import train_test_split\n",
    "import pandas as pd\n",
    "\n",
    "# Load the Iris dataset\n",
    "iris = load_iris()\n",
    "X = pd.DataFrame(iris.data, columns=iris.feature_names)\n",
    "y = pd.Series(iris.target)\n",
    "\n",
    "# First split: train (70%) and temp (30%)\n",
    "X_train, X_temp, y_train, y_temp = train_test_split(\n",
    "    X, y, test_size=0.3, random_state=42, stratify=y\n",
    ")\n",
    "\n",
    "# Second split: validation (15%) and test (15%) from temp (which is 30% of data)\n",
    "X_val, X_test, y_val, y_test = train_test_split(\n",
    "    X_temp, y_temp, test_size=0.5, random_state=42, stratify=y_temp\n",
    ")\n",
    "\n",
    "print(\"Train set size:\", X_train.shape[0])\n",
    "print(\"Validation set size:\", X_val.shape[0])\n",
    "print(\"Test set size:\", X_test.shape[0])"
   ]
  },
  {
   "cell_type": "markdown",
   "metadata": {},
   "source": [
    "\n",
    "Task 3: Customer Churn Dataset (Classification)<br>\n",
    "Predict customer churn using the telecom dataset.<br>\n",
    "Split the data into training, validation, and test sets."
   ]
  },
  {
   "cell_type": "code",
   "execution_count": 4,
   "metadata": {},
   "outputs": [
    {
     "name": "stdout",
     "output_type": "stream",
     "text": [
      "Train set size: 7\n",
      "Validation set size: 1\n",
      "Test set size: 2\n"
     ]
    }
   ],
   "source": [
    "# Customer Churn Dataset - Data Splitting (Train, Validation, Test)\n",
    "\n",
    "import pandas as pd\n",
    "from sklearn.model_selection import train_test_split\n",
    "\n",
    "# Example: Simulated telecom churn dataset (replace with actual dataset as needed)\n",
    "data = {\n",
    "    'monthly_minutes': [300, 250, 400, 150, 500, 100, 350, 200, 450, 120],\n",
    "    'customer_support_calls': [1, 3, 0, 5, 2, 6, 1, 4, 0, 7],\n",
    "    'contract_length_months': [12, 24, 12, 6, 24, 6, 12, 6, 24, 6],\n",
    "    'churn': [0, 0, 0, 1, 0, 1, 0, 1, 0, 1]\n",
    "}\n",
    "df = pd.DataFrame(data)\n",
    "\n",
    "# Features and target\n",
    "X = df.drop('churn', axis=1)\n",
    "y = df['churn']\n",
    "\n",
    "# First split: train (70%) and temp (30%) with stratify\n",
    "X_train, X_temp, y_train, y_temp = train_test_split(\n",
    "    X, y, test_size=0.3, random_state=42, stratify=y\n",
    ")\n",
    "\n",
    "# Second split: validation (15%) and test (15%) from temp (no stratify due to small size)\n",
    "X_val, X_test, y_val, y_test = train_test_split(\n",
    "    X_temp, y_temp, test_size=0.5, random_state=42\n",
    ")\n",
    "\n",
    "print(\"Train set size:\", X_train.shape[0])\n",
    "print(\"Validation set size:\", X_val.shape[0])\n",
    "print(\"Test set size:\", X_test.shape[0])"
   ]
  }
 ],
 "metadata": {
  "kernelspec": {
   "display_name": "Python 3",
   "language": "python",
   "name": "python3"
  },
  "language_info": {
   "codemirror_mode": {
    "name": "ipython",
    "version": 3
   },
   "file_extension": ".py",
   "mimetype": "text/x-python",
   "name": "python",
   "nbconvert_exporter": "python",
   "pygments_lexer": "ipython3",
   "version": "3.10.12"
  }
 },
 "nbformat": 4,
 "nbformat_minor": 2
}
