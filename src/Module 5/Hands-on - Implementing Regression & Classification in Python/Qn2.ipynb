{
 "cells": [
  {
   "cell_type": "markdown",
   "metadata": {},
   "source": [
    "Title: Train a Classification Model (Logistic Regression)"
   ]
  },
  {
   "cell_type": "markdown",
   "metadata": {},
   "source": [
    "Task 1: Email Spam Detection<br>\n",
    "Dataset: Use a dataset containing labeled emails as spam or not-spam, with features such as word frequency."
   ]
  },
  {
   "cell_type": "code",
   "execution_count": 5,
   "metadata": {},
   "outputs": [
    {
     "name": "stdout",
     "output_type": "stream",
     "text": [
      "Predicted classes with L2 regularization: [0 0 0 1 1 1]\n"
     ]
    }
   ],
   "source": [
    "# Write your code here\n",
    "\n",
    "import numpy as np\n",
    "from sklearn.linear_model import LogisticRegression\n",
    "\n",
    "# Simple binary classification dataset\n",
    "X_bin = np.array([[1], [2], [3], [4], [5], [6]])\n",
    "y_bin = np.array([0, 0, 0, 1, 1, 1])\n",
    "\n",
    "# Create and fit logistic regression with L2 regularization (C is inverse of regularization strength)\n",
    "logreg_l2 = LogisticRegression(penalty='l2', C=1.0)\n",
    "logreg_l2.fit(X_bin, y_bin)\n",
    "\n",
    "# Predict outputs for the input data\n",
    "y_pred_l2 = logreg_l2.predict(X_bin)\n",
    "\n",
    "print(\"Predicted classes with L2 regularization:\", y_pred_l2)"
   ]
  },
  {
   "cell_type": "markdown",
   "metadata": {},
   "source": [
    "Task 2: Predicting Tumor Malignancy<br>\n",
    "Dataset: Use a dataset that contains features from tumor datasets such as size and shape indicators."
   ]
  },
  {
   "cell_type": "code",
   "execution_count": 6,
   "metadata": {},
   "outputs": [
    {
     "name": "stdout",
     "output_type": "stream",
     "text": [
      "Test set accuracy (with scaling): 0.865625\n"
     ]
    }
   ],
   "source": [
    "# To address the ConvergenceWarning, scale the data before fitting the model\n",
    "\n",
    "from sklearn.preprocessing import StandardScaler\n",
    "\n",
    "# Scale the features\n",
    "scaler = StandardScaler()\n",
    "X_train_scaled = scaler.fit_transform(X_train)\n",
    "X_test_scaled = scaler.transform(X_test)\n",
    "\n",
    "# Create and fit the logistic regression model\n",
    "logreg = LogisticRegression(max_iter=500)\n",
    "logreg.fit(X_train_scaled, y_train)\n",
    "\n",
    "# Predict on the test set\n",
    "y_pred = logreg.predict(X_test_scaled)\n",
    "\n",
    "# Evaluate accuracy\n",
    "accuracy = accuracy_score(y_test, y_pred)\n",
    "print(\"Test set accuracy (with scaling):\", accuracy)"
   ]
  },
  {
   "cell_type": "markdown",
   "metadata": {},
   "source": [
    "Task 3: Wine Quality Classification<br>\n",
    "Dataset: Use a dataset that contains chemical properties of wine along with a quality rating.\n",
    "Treat quality as a binary classification (high vs. low)."
   ]
  },
  {
   "cell_type": "code",
   "execution_count": null,
   "metadata": {},
   "outputs": [
    {
     "name": "stdout",
     "output_type": "stream",
     "text": [
      "Predicted test scores: [ 54.94623656  64.09139785  73.23655914  85.43010753  94.57526882\n",
      " 103.72043011]\n",
      "Actual test scores: [50 65 78 88 96 99]\n",
      "Model coefficient: [6.09677419]\n",
      "Model intercept: 42.75268817204301\n"
     ]
    }
   ],
   "source": [
    "# ...existing code...\n",
    "import pandas as pd\n",
    "from sklearn.linear_model import LinearRegression\n",
    "\n",
    "# Example dataset: study hours and test scores\n",
    "data_scores = {\n",
    "    'StudyHours': [2, 3.5, 5, 7, 8.5, 10],\n",
    "    'TestScore': [50, 65, 78, 88, 96, 99]\n",
    "}\n",
    "df_scores = pd.DataFrame(data_scores)\n",
    "\n",
    "# Features and target\n",
    "X_scores = df_scores[['StudyHours']]\n",
    "y_scores = df_scores['TestScore']\n",
    "\n",
    "# Train the linear regression model\n",
    "model_scores = LinearRegression()\n",
    "model_scores.fit(X_scores, y_scores)\n",
    "\n",
    "# Predict test scores for the input data\n",
    "y_pred_scores = model_scores.predict(X_scores)\n",
    "\n",
    "print(\"Predicted test scores:\", y_pred_scores)\n",
    "print(\"Actual test scores:\", y_scores.values)\n",
    "print(\"Model coefficient:\", model_scores.coef_)\n",
    "print(\"Model intercept:\", model_scores.intercept_)\n",
    "# ...existing code..."
   ]
  }
 ],
 "metadata": {
  "kernelspec": {
   "display_name": "Python 3",
   "language": "python",
   "name": "python3"
  },
  "language_info": {
   "codemirror_mode": {
    "name": "ipython",
    "version": 3
   },
   "file_extension": ".py",
   "mimetype": "text/x-python",
   "name": "python",
   "nbconvert_exporter": "python",
   "pygments_lexer": "ipython3",
   "version": "3.10.12"
  }
 },
 "nbformat": 4,
 "nbformat_minor": 2
}
