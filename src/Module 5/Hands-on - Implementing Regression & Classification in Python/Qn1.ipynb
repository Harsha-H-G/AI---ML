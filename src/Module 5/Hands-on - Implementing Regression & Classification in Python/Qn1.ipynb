{
 "cells": [
  {
   "cell_type": "markdown",
   "metadata": {},
   "source": [
    "Title: Train a Linear Regression Model"
   ]
  },
  {
   "cell_type": "markdown",
   "metadata": {},
   "source": [
    "Task 1: Predicting House Prices<br>\n",
    "Dataset: Use a dataset that contains various features of houses such as square footage, number of bedrooms, and age of the house."
   ]
  },
  {
   "cell_type": "code",
   "execution_count": 4,
   "metadata": {},
   "outputs": [
    {
     "name": "stdout",
     "output_type": "stream",
     "text": [
      "Predicted prices: [233275.04404732 297395.23030456 280028.50490813 321164.86282407\n",
      " 211136.35791593]\n",
      "Actual prices: [245000 312000 279000 308000 199000]\n",
      "Model coefficients: [   -65.23785552 -35457.71457337 -15433.55147244]\n",
      "Model intercept: 739652.2149509063\n"
     ]
    }
   ],
   "source": [
    "# ...existing code...\n",
    "import pandas as pd\n",
    "from sklearn.linear_model import LinearRegression\n",
    "\n",
    "# Example dataset: square footage, number of bedrooms, age, and price\n",
    "data = {\n",
    "    'SquareFootage': [1400, 1600, 1700, 1875, 1100],\n",
    "    'Bedrooms': [3, 3, 2, 4, 2],\n",
    "    'Age': [20, 15, 18, 10, 25],\n",
    "    'Price': [245000, 312000, 279000, 308000, 199000]\n",
    "}\n",
    "df = pd.DataFrame(data)\n",
    "\n",
    "# Features and target\n",
    "X = df[['SquareFootage', 'Bedrooms', 'Age']]\n",
    "y = df['Price']\n",
    "\n",
    "# Train the linear regression model\n",
    "model = LinearRegression()\n",
    "model.fit(X, y)\n",
    "\n",
    "# Predict prices for the input data\n",
    "y_pred = model.predict(X)\n",
    "\n",
    "print(\"Predicted prices:\", y_pred)\n",
    "print(\"Actual prices:\", y.values)\n",
    "print(\"Model coefficients:\", model.coef_)\n",
    "print(\"Model intercept:\", model.intercept_)\n",
    "# ...existing code..."
   ]
  },
  {
   "cell_type": "markdown",
   "metadata": {},
   "source": [
    "Task 2: Predicting Car Mileage (MPG)<br>\n",
    "Dataset: Use a dataset where features include horsepower, weight, and model year of cars."
   ]
  },
  {
   "cell_type": "code",
   "execution_count": 5,
   "metadata": {},
   "outputs": [
    {
     "name": "stdout",
     "output_type": "stream",
     "text": [
      "Predicted MPG: [17.42643625 15.16809393 17.00620143 17.39926839 14.        ]\n",
      "Actual MPG: [18 15 18 16 14]\n",
      "Model coefficients: [-0.03782332 -0.00494458  1.09472169]\n",
      "Model intercept: -36.96123358868621\n"
     ]
    }
   ],
   "source": [
    "# ...existing code...\n",
    "import pandas as pd\n",
    "from sklearn.linear_model import LinearRegression\n",
    "\n",
    "# Example dataset: horsepower, weight, model year, and MPG\n",
    "data_car = {\n",
    "    'Horsepower': [130, 165, 150, 140, 198],\n",
    "    'Weight': [3504, 3693, 3436, 3433, 4341],\n",
    "    'ModelYear': [70, 70, 70, 70, 73],\n",
    "    'MPG': [18, 15, 18, 16, 14]\n",
    "}\n",
    "df_car = pd.DataFrame(data_car)\n",
    "\n",
    "# Features and target\n",
    "X_car = df_car[['Horsepower', 'Weight', 'ModelYear']]\n",
    "y_car = df_car['MPG']\n",
    "\n",
    "# Train the linear regression model\n",
    "model_car = LinearRegression()\n",
    "model_car.fit(X_car, y_car)\n",
    "\n",
    "# Predict MPG for the input data\n",
    "y_pred_car = model_car.predict(X_car)\n",
    "\n",
    "print(\"Predicted MPG:\", y_pred_car)\n",
    "print(\"Actual MPG:\", y_car.values)\n",
    "print(\"Model coefficients:\", model_car.coef_)\n",
    "print(\"Model intercept:\", model_car.intercept_)\n",
    "# ...existing code..."
   ]
  },
  {
   "cell_type": "markdown",
   "metadata": {},
   "source": [
    "Task 3: Predicting Student's Scores'\n",
    "Dataset: Use a dataset that contains study hours and corresponding student test scores."
   ]
  },
  {
   "cell_type": "code",
   "execution_count": 6,
   "metadata": {},
   "outputs": [
    {
     "name": "stdout",
     "output_type": "stream",
     "text": [
      "Predicted test scores: [ 54.94623656  64.09139785  73.23655914  85.43010753  94.57526882\n",
      " 103.72043011]\n",
      "Actual test scores: [50 65 78 88 96 99]\n",
      "Model coefficient: [6.09677419]\n",
      "Model intercept: 42.75268817204301\n"
     ]
    }
   ],
   "source": [
    "# ...existing code...\n",
    "import pandas as pd\n",
    "from sklearn.linear_model import LinearRegression\n",
    "\n",
    "# Example dataset: study hours and test scores\n",
    "data_scores = {\n",
    "    'StudyHours': [2, 3.5, 5, 7, 8.5, 10],\n",
    "    'TestScore': [50, 65, 78, 88, 96, 99]\n",
    "}\n",
    "df_scores = pd.DataFrame(data_scores)\n",
    "\n",
    "# Features and target\n",
    "X_scores = df_scores[['StudyHours']]\n",
    "y_scores = df_scores['TestScore']\n",
    "\n",
    "# Train the linear regression model\n",
    "model_scores = LinearRegression()\n",
    "model_scores.fit(X_scores, y_scores)\n",
    "\n",
    "# Predict test scores for the input data\n",
    "y_pred_scores = model_scores.predict(X_scores)\n",
    "\n",
    "print(\"Predicted test scores:\", y_pred_scores)\n",
    "print(\"Actual test scores:\", y_scores.values)\n",
    "print(\"Model coefficient:\", model_scores.coef_)\n",
    "print(\"Model intercept:\", model_scores.intercept_)\n",
    "# ...existing code..."
   ]
  }
 ],
 "metadata": {
  "kernelspec": {
   "display_name": "Python 3",
   "language": "python",
   "name": "python3"
  },
  "language_info": {
   "codemirror_mode": {
    "name": "ipython",
    "version": 3
   },
   "file_extension": ".py",
   "mimetype": "text/x-python",
   "name": "python",
   "nbconvert_exporter": "python",
   "pygments_lexer": "ipython3",
   "version": "3.10.12"
  }
 },
 "nbformat": 4,
 "nbformat_minor": 2
}
