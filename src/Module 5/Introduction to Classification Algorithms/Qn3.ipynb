{
 "cells": [
  {
   "cell_type": "markdown",
   "metadata": {},
   "source": [
    "Title: Popular Classification Algorithms"
   ]
  },
  {
   "cell_type": "markdown",
   "metadata": {},
   "source": [
    "Logistic Regression"
   ]
  },
  {
   "cell_type": "markdown",
   "metadata": {},
   "source": [
    "\n",
    "Task 1: Predict the likelihood of a student passing a test based on study hours."
   ]
  },
  {
   "cell_type": "code",
   "execution_count": 1,
   "metadata": {},
   "outputs": [
    {
     "name": "stdout",
     "output_type": "stream",
     "text": [
      "Accuracy: 1.0\n",
      "Classification Report:\n",
      "               precision    recall  f1-score   support\n",
      "\n",
      "        Fail       1.00      1.00      1.00         1\n",
      "        Pass       1.00      1.00      1.00         2\n",
      "\n",
      "    accuracy                           1.00         3\n",
      "   macro avg       1.00      1.00      1.00         3\n",
      "weighted avg       1.00      1.00      1.00         3\n",
      "\n",
      "Predicted probability of passing for 5 study hours: 0.83\n"
     ]
    },
    {
     "name": "stderr",
     "output_type": "stream",
     "text": [
      "/home/vscode/.local/lib/python3.10/site-packages/sklearn/utils/validation.py:2739: UserWarning: X does not have valid feature names, but LogisticRegression was fitted with feature names\n",
      "  warnings.warn(\n"
     ]
    }
   ],
   "source": [
    "# Task 1: Predict the likelihood of a student passing a test based on study hours using Logistic Regression\n",
    "\n",
    "import pandas as pd\n",
    "from sklearn.model_selection import train_test_split\n",
    "from sklearn.linear_model import LogisticRegression\n",
    "from sklearn.metrics import accuracy_score, classification_report\n",
    "\n",
    "# Example dataset: study hours and pass/fail (1=pass, 0=fail)\n",
    "data = {\n",
    "    'study_hours': [1, 2, 2.5, 3, 3.5, 4, 4.5, 5, 6, 7, 8, 9],\n",
    "    'passed':      [0, 0,   0, 0,   0, 1,   1, 1, 1, 1, 1, 1]\n",
    "}\n",
    "df = pd.DataFrame(data)\n",
    "\n",
    "# Features and target\n",
    "X = df[['study_hours']]\n",
    "y = df['passed']\n",
    "\n",
    "# Split into train and test sets\n",
    "X_train, X_test, y_train, y_test = train_test_split(X, y, test_size=0.25, random_state=42)\n",
    "\n",
    "# Train logistic regression model\n",
    "clf = LogisticRegression()\n",
    "clf.fit(X_train, y_train)\n",
    "\n",
    "# Predict and evaluate\n",
    "y_pred = clf.predict(X_test)\n",
    "print(\"Accuracy:\", accuracy_score(y_test, y_pred))\n",
    "print(\"Classification Report:\\n\", classification_report(y_test, y_pred, target_names=['Fail', 'Pass']))\n",
    "\n",
    "# Predict probability of passing for a new student who studied 5 hours\n",
    "prob_pass = clf.predict_proba([[5]])[0][1]\n",
    "print(f\"Predicted probability of passing for 5 study hours: {prob_pass:.2f}\")"
   ]
  },
  {
   "cell_type": "markdown",
   "metadata": {},
   "source": [
    "Task 2: Predict customer churn based on service usage data."
   ]
  },
  {
   "cell_type": "code",
   "execution_count": 2,
   "metadata": {},
   "outputs": [
    {
     "name": "stdout",
     "output_type": "stream",
     "text": [
      "Accuracy: 1.0\n",
      "Classification Report:\n",
      "               precision    recall  f1-score   support\n",
      "\n",
      " Not Churned       1.00      1.00      1.00         2\n",
      "     Churned       1.00      1.00      1.00         1\n",
      "\n",
      "    accuracy                           1.00         3\n",
      "   macro avg       1.00      1.00      1.00         3\n",
      "weighted avg       1.00      1.00      1.00         3\n",
      "\n",
      "Predicted probability of churn for new customer: 0.00\n"
     ]
    },
    {
     "name": "stderr",
     "output_type": "stream",
     "text": [
      "/home/vscode/.local/lib/python3.10/site-packages/sklearn/utils/validation.py:2739: UserWarning: X does not have valid feature names, but LogisticRegression was fitted with feature names\n",
      "  warnings.warn(\n"
     ]
    }
   ],
   "source": [
    "# Task 2: Predict customer churn based on service usage data using Logistic Regression\n",
    "\n",
    "import pandas as pd\n",
    "from sklearn.model_selection import train_test_split\n",
    "from sklearn.linear_model import LogisticRegression\n",
    "from sklearn.metrics import accuracy_score, classification_report\n",
    "\n",
    "# Example dataset: service usage features and churn (1=churned, 0=not churned)\n",
    "data = {\n",
    "    'monthly_minutes': [300, 250, 400, 150, 500, 100, 350, 200, 450, 120],\n",
    "    'customer_support_calls': [1, 3, 0, 5, 2, 6, 1, 4, 0, 7],\n",
    "    'contract_length_months': [12, 24, 12, 6, 24, 6, 12, 6, 24, 6],\n",
    "    'churn': [0, 0, 0, 1, 0, 1, 0, 1, 0, 1]\n",
    "}\n",
    "df = pd.DataFrame(data)\n",
    "\n",
    "# Features and target\n",
    "X = df.drop('churn', axis=1)\n",
    "y = df['churn']\n",
    "\n",
    "# Split into train and test sets\n",
    "X_train, X_test, y_train, y_test = train_test_split(X, y, test_size=0.3, random_state=42)\n",
    "\n",
    "# Train logistic regression model\n",
    "clf = LogisticRegression()\n",
    "clf.fit(X_train, y_train)\n",
    "\n",
    "# Predict and evaluate\n",
    "y_pred = clf.predict(X_test)\n",
    "print(\"Accuracy:\", accuracy_score(y_test, y_pred))\n",
    "print(\"Classification Report:\\n\", classification_report(y_test, y_pred, target_names=['Not Churned', 'Churned']))\n",
    "\n",
    "# Predict probability of churn for a new customer\n",
    "new_customer = [[400, 2, 12]]  # monthly_minutes, customer_support_calls, contract_length_months\n",
    "prob_churn = clf.predict_proba(new_customer)[0][1]\n",
    "print(f\"Predicted probability of churn for new customer: {prob_churn:.2f}\")"
   ]
  },
  {
   "cell_type": "markdown",
   "metadata": {},
   "source": [
    "Task 3: Classify if a review is positive or negative using NLP."
   ]
  },
  {
   "cell_type": "code",
   "execution_count": 3,
   "metadata": {},
   "outputs": [
    {
     "name": "stdout",
     "output_type": "stream",
     "text": [
      "Accuracy: 0.6666666666666666\n",
      "Classification Report:\n",
      "               precision    recall  f1-score   support\n",
      "\n",
      "    Negative       1.00      0.50      0.67         2\n",
      "    Positive       0.50      1.00      0.67         1\n",
      "\n",
      "    accuracy                           0.67         3\n",
      "   macro avg       0.75      0.75      0.67         3\n",
      "weighted avg       0.83      0.67      0.67         3\n",
      "\n",
      "Predicted probability of positive sentiment: 0.52\n"
     ]
    }
   ],
   "source": [
    "# Task 3: Classify if a review is positive or negative using NLP and Logistic Regression\n",
    "\n",
    "import pandas as pd\n",
    "from sklearn.model_selection import train_test_split\n",
    "from sklearn.feature_extraction.text import CountVectorizer\n",
    "from sklearn.linear_model import LogisticRegression\n",
    "from sklearn.metrics import accuracy_score, classification_report\n",
    "\n",
    "# Example dataset: text reviews and sentiment (1=positive, 0=negative)\n",
    "data = {\n",
    "    'review': [\n",
    "        \"I loved this product, it works great!\",\n",
    "        \"Terrible experience, will not buy again.\",\n",
    "        \"Absolutely fantastic, highly recommend.\",\n",
    "        \"Worst purchase ever, very disappointed.\",\n",
    "        \"Good quality and fast shipping.\",\n",
    "        \"Not worth the money.\",\n",
    "        \"Exceeded my expectations!\",\n",
    "        \"The item broke after one use.\",\n",
    "        \"Very satisfied with my order.\",\n",
    "        \"Awful, do not recommend.\"\n",
    "    ],\n",
    "    'sentiment': [1, 0, 1, 0, 1, 0, 1, 0, 1, 0]\n",
    "}\n",
    "df = pd.DataFrame(data)\n",
    "\n",
    "# Features and target\n",
    "X = df['review']\n",
    "y = df['sentiment']\n",
    "\n",
    "# Convert text to feature vectors\n",
    "vectorizer = CountVectorizer()\n",
    "X_vec = vectorizer.fit_transform(X)\n",
    "\n",
    "# Split into train and test sets\n",
    "X_train, X_test, y_train, y_test = train_test_split(X_vec, y, test_size=0.3, random_state=42)\n",
    "\n",
    "# Train logistic regression model\n",
    "clf = LogisticRegression()\n",
    "clf.fit(X_train, y_train)\n",
    "\n",
    "# Predict and evaluate\n",
    "y_pred = clf.predict(X_test)\n",
    "print(\"Accuracy:\", accuracy_score(y_test, y_pred))\n",
    "print(\"Classification Report:\\n\", classification_report(y_test, y_pred, target_names=['Negative', 'Positive']))\n",
    "\n",
    "# Predict sentiment for a new review\n",
    "new_review = [\"This is the best purchase I've made!\"]\n",
    "new_review_vec = vectorizer.transform(new_review)\n",
    "prob_positive = clf.predict_proba(new_review_vec)[0][1]\n",
    "print(f\"Predicted probability of positive sentiment: {prob_positive:.2f}\")"
   ]
  }
 ],
 "metadata": {
  "kernelspec": {
   "display_name": "Python 3",
   "language": "python",
   "name": "python3"
  },
  "language_info": {
   "codemirror_mode": {
    "name": "ipython",
    "version": 3
   },
   "file_extension": ".py",
   "mimetype": "text/x-python",
   "name": "python",
   "nbconvert_exporter": "python",
   "pygments_lexer": "ipython3",
   "version": "3.10.12"
  }
 },
 "nbformat": 4,
 "nbformat_minor": 2
}
