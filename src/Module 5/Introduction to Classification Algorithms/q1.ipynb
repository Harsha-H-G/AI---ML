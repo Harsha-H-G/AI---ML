{
 "cells": [
  {
   "cell_type": "markdown",
   "metadata": {},
   "source": [
    "Question 1: Binary Classification with Logistic Regression<br>\n",
    "\n",
    "Description:<br>\n",
    "Use logistic regression to classify the famous Iris dataset into two classes: Versicolor and Not-Versicolor."
   ]
  },
  {
   "cell_type": "code",
   "execution_count": 1,
   "metadata": {},
   "outputs": [],
   "source": [
    "# Write your code from here\n",
    "import numpy as np\n",
    "import pandas as pd\n",
    "from sklearn.datasets import load_iris\n",
    "from sklearn.linear_model import LogisticRegression\n",
    "from sklearn.model_selection import train_test_split\n",
    "from sklearn.metrics import accuracy_score, confusion_matrix, classification_report\n",
    "# Load the Iris dataset\n",
    "iris = load_iris()\n",
    "X = iris.data\n",
    "y = iris.target\n",
    "\n",
    "# Convert to DataFrame for easier handling\n",
    "df = pd.DataFrame(X, columns=iris.feature_names)\n",
    "df['species'] = y\n",
    "\n",
    "# Map target to binary: 1 if Versicolor (class 1), else 0\n",
    "df['is_versicolor'] = (df['species'] == 1).astype(int)\n",
    "\n",
    "# Features and target\n",
    "X = df[iris.feature_names].values\n",
    "y = df['is_versicolor'].values\n",
    "X_train, X_test, y_train, y_test = train_test_split(X, y, test_size=0.2, random_state=42)\n",
    "model = LogisticRegression()\n",
    "model.fit(X_train, y_train)\n",
    "y_pred = model.predict(X_test)\n",
    "print(\"Accuracy:\", accuracy_score(y_test, y_pred))\n",
    "print(\"Confusion Matrix:\\n\", confusion_matrix(y_test, y_pred))\n",
    "print(\"Classification Report:\\n\", classification_report(y_test, y_pred, target_names=['Not-Versicolor', 'Versicolor']))\n"
   ]
  },
  {
   "cell_type": "markdown",
   "metadata": {},
   "source": [
    "Question 2: Multi-Class Classification with Decision Trees<br>\n",
    "\n",
    "Description:<br>\n",
    "Classify the Iris dataset using a Decision Tree classifier and visualize the decision tree."
   ]
  },
  {
   "cell_type": "code",
   "execution_count": 2,
   "metadata": {},
   "outputs": [],
   "source": [
    "# Write your code from here"
   ]
  },
  {
   "cell_type": "markdown",
   "metadata": {},
   "source": [
    "Question 3: K-Nearest Neighbors for Binary Classification<br>\n",
    "\n",
    "Description:<br>\n",
    "Use K-Nearest Neighbors to classify the Breast Cancer dataset into two classes: Malignant and Benign."
   ]
  },
  {
   "cell_type": "code",
   "execution_count": 3,
   "metadata": {},
   "outputs": [],
   "source": [
    "# Write your code from here"
   ]
  },
  {
   "cell_type": "markdown",
   "metadata": {},
   "source": [
    "Question 4: Evaluate Classification Model using Confusion Matrix<br>\n",
    "\n",
    "Description:<br>\n",
    "Evaluate the performance of the K-Nearest Neighbors classifier from Question 3 using a\n",
    "confusion matrix."
   ]
  },
  {
   "cell_type": "code",
   "execution_count": 4,
   "metadata": {},
   "outputs": [],
   "source": [
    "# Write your code from here"
   ]
  },
  {
   "cell_type": "markdown",
   "metadata": {},
   "source": [
    "Question 5: SVM Classifier for Multi-Class Classification<br>\n",
    "\n",
    "Description:<br>\n",
    "Classify the Wine dataset using Support Vector Machine and check the model's performance."
   ]
  },
  {
   "cell_type": "code",
   "execution_count": 5,
   "metadata": {},
   "outputs": [],
   "source": [
    "# Write your code from here"
   ]
  },
  {
   "cell_type": "markdown",
   "metadata": {},
   "source": [
    "Question 6: Precision, Recall, and F1-Score<br>\n",
    "\n",
    "Description:<br>\n",
    "Calculate precision, recall, and F1-score for the SVM model trained on the Wine dataset."
   ]
  },
  {
   "cell_type": "code",
   "execution_count": 6,
   "metadata": {},
   "outputs": [],
   "source": [
    "# Write your code from here"
   ]
  },
  {
   "cell_type": "markdown",
   "metadata": {},
   "source": [
    "Question 7: Random Forest for Binary Classification with Feature Importance<br>\n",
    "\n",
    "Description:<br>\n",
    "Train a Random Forest classifier on the Breast Cancer dataset and display feature\n",
    "importances."
   ]
  },
  {
   "cell_type": "code",
   "execution_count": 7,
   "metadata": {},
   "outputs": [],
   "source": [
    "# Write your code from here"
   ]
  },
  {
   "cell_type": "markdown",
   "metadata": {},
   "source": [
    "Question 8: ROC-AUC Curve for Binary Classification<br>\n",
    "\n",
    "Description:<br>\n",
    "Plot the ROC-AUC curve for the Random Forest model on the Breast Cancer dataset."
   ]
  },
  {
   "cell_type": "code",
   "execution_count": 8,
   "metadata": {},
   "outputs": [],
   "source": [
    "# Write your code from here"
   ]
  },
  {
   "cell_type": "markdown",
   "metadata": {},
   "source": [
    "Question 9: Hyperparameter Tuning with Grid Search for SVM Classifier<br>\n",
    "\n",
    "Description:<br>\n",
    "Perform hyperparameter tuning on the SVM classifier for the Wine dataset using GridSearchCV."
   ]
  },
  {
   "cell_type": "code",
   "execution_count": 9,
   "metadata": {},
   "outputs": [],
   "source": [
    "# Write your code from here"
   ]
  },
  {
   "cell_type": "markdown",
   "metadata": {},
   "source": [
    "Question 10: Ensemble Learning using Voting Classifier<br>\n",
    "\n",
    "Description:<br>\n",
    "Combine different classifiers to form a voting ensemble and classify the Iris dataset."
   ]
  },
  {
   "cell_type": "code",
   "execution_count": 10,
   "metadata": {},
   "outputs": [],
   "source": [
    "# Write your code from here"
   ]
  }
 ],
 "metadata": {
  "kernelspec": {
   "display_name": "Python 3",
   "language": "python",
   "name": "python3"
  },
  "language_info": {
   "codemirror_mode": {
    "name": "ipython",
    "version": 3
   },
   "file_extension": ".py",
   "mimetype": "text/x-python",
   "name": "python",
   "nbconvert_exporter": "python",
   "pygments_lexer": "ipython3",
   "version": "3.10.12"
  }
 },
 "nbformat": 4,
 "nbformat_minor": 2
}
