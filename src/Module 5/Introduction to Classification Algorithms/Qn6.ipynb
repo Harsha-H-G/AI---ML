{
 "cells": [
  {
   "cell_type": "markdown",
   "metadata": {},
   "source": [
    "Title: Popular Classification Algorithms"
   ]
  },
  {
   "cell_type": "markdown",
   "metadata": {},
   "source": [
    "Support Vector Machines (SVM)"
   ]
  },
  {
   "cell_type": "markdown",
   "metadata": {},
   "source": [
    "Task 1: Identify handwriting on checks and classify each letter."
   ]
  },
  {
   "cell_type": "code",
   "execution_count": 1,
   "metadata": {},
   "outputs": [
    {
     "name": "stdout",
     "output_type": "stream",
     "text": [
      "Accuracy: 0.9777777777777777\n",
      "Classification Report:\n",
      "               precision    recall  f1-score   support\n",
      "\n",
      "           0       1.00      1.00      1.00        36\n",
      "           1       0.92      0.94      0.93        36\n",
      "           2       1.00      1.00      1.00        35\n",
      "           3       1.00      0.97      0.99        37\n",
      "           4       1.00      1.00      1.00        36\n",
      "           5       1.00      1.00      1.00        37\n",
      "           6       1.00      0.97      0.99        36\n",
      "           7       0.97      1.00      0.99        36\n",
      "           8       0.94      0.89      0.91        35\n",
      "           9       0.95      1.00      0.97        36\n",
      "\n",
      "    accuracy                           0.98       360\n",
      "   macro avg       0.98      0.98      0.98       360\n",
      "weighted avg       0.98      0.98      0.98       360\n",
      "\n"
     ]
    }
   ],
   "source": [
    "# Task 1: Identify handwriting on checks and classify each letter using SVM (Support Vector Machine)\n",
    "\n",
    "from sklearn.datasets import load_digits\n",
    "from sklearn.model_selection import train_test_split\n",
    "from sklearn.svm import SVC\n",
    "from sklearn.metrics import accuracy_score, classification_report\n",
    "\n",
    "# Load the handwritten digits dataset (each digit image is 8x8 pixels)\n",
    "digits = load_digits()\n",
    "X = digits.data\n",
    "y = digits.target  # Digits 0-9 (for letters, a similar approach applies with a letter dataset)\n",
    "\n",
    "# Split into train and test sets\n",
    "X_train, X_test, y_train, y_test = train_test_split(\n",
    "    X, y, test_size=0.2, random_state=42, stratify=y\n",
    ")\n",
    "\n",
    "# Train an SVM classifier\n",
    "clf = SVC(kernel='linear', random_state=42)\n",
    "clf.fit(X_train, y_train)\n",
    "\n",
    "# Predict and evaluate\n",
    "y_pred = clf.predict(X_test)\n",
    "print(\"Accuracy:\", accuracy_score(y_test, y_pred))\n",
    "print(\"Classification Report:\\n\", classification_report(y_test, y_pred))"
   ]
  },
  {
   "cell_type": "markdown",
   "metadata": {},
   "source": [
    "\n",
    "Task 2: Detect gender of a speaker based on voice data."
   ]
  },
  {
   "cell_type": "code",
   "execution_count": 2,
   "metadata": {},
   "outputs": [
    {
     "name": "stdout",
     "output_type": "stream",
     "text": [
      "Accuracy: 0.0\n",
      "Classification Report:\n",
      "               precision    recall  f1-score   support\n",
      "\n",
      "      Female       0.00      0.00      0.00       2.0\n",
      "        Male       0.00      0.00      0.00       0.0\n",
      "\n",
      "    accuracy                           0.00       2.0\n",
      "   macro avg       0.00      0.00      0.00       2.0\n",
      "weighted avg       0.00      0.00      0.00       2.0\n",
      "\n"
     ]
    }
   ],
   "source": [
    "# Task 2: Detect gender of a speaker based on voice data using SVM\n",
    "\n",
    "import pandas as pd\n",
    "from sklearn.model_selection import train_test_split\n",
    "from sklearn.svm import SVC\n",
    "from sklearn.metrics import accuracy_score, classification_report\n",
    "\n",
    "# Example: Use the UCI Gender Recognition by Voice dataset (if available locally)\n",
    "# For demonstration, we'll create a small synthetic dataset\n",
    "# In practice, use real features like meanfreq, sd, median, Q25, Q75, etc.\n",
    "\n",
    "data = {\n",
    "    'meanfreq': [0.23, 0.18, 0.22, 0.19, 0.25, 0.17, 0.21, 0.24, 0.20, 0.16],\n",
    "    'sd':       [0.03, 0.04, 0.02, 0.03, 0.05, 0.04, 0.03, 0.02, 0.04, 0.03],\n",
    "    'median':   [0.22, 0.17, 0.21, 0.18, 0.24, 0.16, 0.20, 0.23, 0.19, 0.15],\n",
    "    'gender':   [1, 0, 1, 0, 1, 0, 1, 1, 0, 0]  # 1 = male, 0 = female\n",
    "}\n",
    "df = pd.DataFrame(data)\n",
    "\n",
    "# Features and target\n",
    "X = df.drop('gender', axis=1)\n",
    "y = df['gender']\n",
    "\n",
    "# Split into train and test sets\n",
    "X_train, X_test, y_train, y_test = train_test_split(\n",
    "    X, y, test_size=0.2, random_state=42\n",
    ")\n",
    "\n",
    "# Train an SVM classifier\n",
    "clf = SVC(kernel='linear', random_state=42)\n",
    "clf.fit(X_train, y_train)\n",
    "\n",
    "# Predict and evaluate\n",
    "y_pred = clf.predict(X_test)\n",
    "print(\"Accuracy:\", accuracy_score(y_test, y_pred))\n",
    "print(\"Classification Report:\\n\", classification_report(\n",
    "    y_test, y_pred, labels=[0, 1], target_names=['Female', 'Male'], zero_division=0\n",
    "))"
   ]
  },
  {
   "cell_type": "markdown",
   "metadata": {},
   "source": [
    "Task 3: Classify email topics based on content."
   ]
  },
  {
   "cell_type": "code",
   "execution_count": 7,
   "metadata": {},
   "outputs": [
    {
     "name": "stdout",
     "output_type": "stream",
     "text": [
      "Accuracy: 0.5\n",
      "Classification Report:\n",
      "               precision    recall  f1-score   support\n",
      "\n",
      "     finance       0.00      0.00      0.00         1\n",
      "    personal       0.50      1.00      0.67         1\n",
      "    shopping       0.50      1.00      0.67         1\n",
      "        work       0.00      0.00      0.00         1\n",
      "\n",
      "    accuracy                           0.50         4\n",
      "   macro avg       0.25      0.50      0.33         4\n",
      "weighted avg       0.25      0.50      0.33         4\n",
      "\n"
     ]
    }
   ],
   "source": [
    "# Task 3: Classify email topics based on content using SVM\n",
    "\n",
    "import pandas as pd\n",
    "from sklearn.model_selection import train_test_split\n",
    "from sklearn.svm import SVC\n",
    "from sklearn.feature_extraction.text import TfidfVectorizer\n",
    "from sklearn.metrics import accuracy_score, classification_report\n",
    "\n",
    "# Expanded synthetic dataset: email content and topic (at least 4 samples per topic)\n",
    "data = {\n",
    "    'email': [\n",
    "        \"Meeting scheduled for tomorrow at 10am.\",\n",
    "        \"Reminder: Project deadline is approaching.\",\n",
    "        \"Team outing planned for Friday evening.\",\n",
    "        \"Let's catch up for lunch next week.\",\n",
    "        \"Join our webinar on cloud computing.\",\n",
    "        \"Conference call scheduled for next Monday.\",\n",
    "        \"Your invoice for last month is attached.\",\n",
    "        \"Payment received. Thank you for your business.\",\n",
    "        \"Your order has been shipped and is on its way.\",\n",
    "        \"Discounts available on all electronics.\",\n",
    "        \"Special offer just for you! Buy now.\",\n",
    "        \"Exclusive deals on your favorite products.\",\n",
    "        \"Salary credited to your account.\",\n",
    "        \"Expense report submission deadline.\",\n",
    "        \"Tax documents for this year attached.\",\n",
    "        \"Personal reminder: call mom this weekend.\",\n",
    "        \"Dinner plans for Saturday night.\",\n",
    "        \"Birthday invitation for next month.\",\n",
    "        \"Shopping list for groceries.\",\n",
    "        \"Order confirmation for your recent purchase.\"\n",
    "    ],\n",
    "    'topic': [\n",
    "        \"work\", \"work\", \"work\", \"work\",\n",
    "        \"personal\", \"personal\", \"personal\", \"personal\",\n",
    "        \"finance\", \"finance\", \"finance\", \"finance\",\n",
    "        \"shopping\", \"shopping\", \"shopping\", \"shopping\",\n",
    "        \"personal\", \"personal\", \"shopping\", \"shopping\"\n",
    "    ]\n",
    "}\n",
    "df = pd.DataFrame(data)\n",
    "\n",
    "# Features and target\n",
    "X = df['email']\n",
    "y = df['topic']\n",
    "\n",
    "# Convert text to numerical features using TF-IDF\n",
    "vectorizer = TfidfVectorizer()\n",
    "X_vec = vectorizer.fit_transform(X)\n",
    "\n",
    "# Split into train and test sets (stratify now works due to enough samples per class)\n",
    "X_train, X_test, y_train, y_test = train_test_split(\n",
    "    X_vec, y, test_size=0.2, random_state=42, stratify=y\n",
    ")\n",
    "\n",
    "# Train an SVM classifier\n",
    "clf = SVC(kernel='linear', random_state=42)\n",
    "clf.fit(X_train, y_train)\n",
    "\n",
    "# Predict and evaluate\n",
    "y_pred = clf.predict(X_test)\n",
    "print(\"Accuracy:\", accuracy_score(y_test, y_pred))\n",
    "print(\"Classification Report:\\n\", classification_report(y_test, y_pred, zero_division=0))"
   ]
  }
 ],
 "metadata": {
  "kernelspec": {
   "display_name": "Python 3",
   "language": "python",
   "name": "python3"
  },
  "language_info": {
   "codemirror_mode": {
    "name": "ipython",
    "version": 3
   },
   "file_extension": ".py",
   "mimetype": "text/x-python",
   "name": "python",
   "nbconvert_exporter": "python",
   "pygments_lexer": "ipython3",
   "version": "3.10.12"
  }
 },
 "nbformat": 4,
 "nbformat_minor": 2
}
