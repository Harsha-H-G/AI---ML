{
 "cells": [
  {
   "cell_type": "markdown",
   "metadata": {},
   "source": [
    "Title: Regression Models"
   ]
  },
  {
   "cell_type": "markdown",
   "metadata": {},
   "source": [
    "Linear Regression (Simple & Multiple)"
   ]
  },
  {
   "cell_type": "markdown",
   "metadata": {},
   "source": [
    "Task 1: Differentiate between a labeled dataset of image classifications and an unlabeled dataset for clustering customer segments."
   ]
  },
  {
   "cell_type": "code",
   "execution_count": 1,
   "metadata": {},
   "outputs": [
    {
     "name": "stdout",
     "output_type": "stream",
     "text": [
      "Labeled dataset example (for supervised learning):\n",
      "      Image Label\n",
      "0  img1.jpg   Cat\n",
      "1  img2.jpg   Dog\n",
      "2  img3.jpg   Cat\n",
      "\n",
      "Unlabeled dataset example (for unsupervised learning):\n",
      "   CustomerID  Age  Annual_Spend\n",
      "0           1   25          5000\n",
      "1           2   40         12000\n",
      "2           3   31          7000\n"
     ]
    }
   ],
   "source": [
    "# Task 1: Differentiate between a labeled dataset of image classifications and an unlabeled dataset for clustering customer segments\n",
    "\n",
    "# Labeled dataset of image classifications:\n",
    "# - Each data point (image) has an associated label (e.g., 'cat', 'dog').\n",
    "# - Used for supervised learning tasks such as classification.\n",
    "labeled_example = {\n",
    "    'Image': ['img1.jpg', 'img2.jpg', 'img3.jpg'],\n",
    "    'Label': ['Cat', 'Dog', 'Cat']\n",
    "}\n",
    "\n",
    "# Unlabeled dataset for clustering customer segments:\n",
    "# - Data points (e.g., customer features) do not have labels.\n",
    "# - Used for unsupervised learning tasks such as clustering.\n",
    "unlabeled_example = {\n",
    "    'CustomerID': [1, 2, 3],\n",
    "    'Age': [25, 40, 31],\n",
    "    'Annual_Spend': [5000, 12000, 7000]\n",
    "}\n",
    "\n",
    "import pandas as pd\n",
    "\n",
    "print(\"Labeled dataset example (for supervised learning):\")\n",
    "print(pd.DataFrame(labeled_example))\n",
    "\n",
    "print(\"\\nUnlabeled dataset example (for unsupervised learning):\")\n",
    "print(pd.DataFrame(unlabeled_example))"
   ]
  },
  {
   "cell_type": "markdown",
   "metadata": {},
   "source": [
    "Task 2: Examine a problem statement and determine which learning type is applicable.<br>"
   ]
  },
  {
   "cell_type": "code",
   "execution_count": 2,
   "metadata": {},
   "outputs": [
    {
     "name": "stdout",
     "output_type": "stream",
     "text": [
      "Problem: Predict the price of a house based on its features.\n",
      "Learning Type: Supervised (Regression)\n",
      "\n",
      "Problem: Classify emails as spam or not spam.\n",
      "Learning Type: Supervised (Classification)\n",
      "\n",
      "Problem: Group customers into segments based on purchasing behavior.\n",
      "Learning Type: Unsupervised (Clustering)\n",
      "\n",
      "Problem: Detect anomalies in network traffic data.\n",
      "Learning Type: Unsupervised (Anomaly Detection)\n",
      "\n",
      "Problem: Predict whether a patient has a disease based on medical records.\n",
      "Learning Type: Supervised (Classification)\n",
      "\n"
     ]
    }
   ],
   "source": [
    "# Task 2: Examine a problem statement and determine which learning type is applicable\n",
    "\n",
    "# Example problem statements and their learning types:\n",
    "\n",
    "problems = [\n",
    "    {\"statement\": \"Predict the price of a house based on its features.\", \"learning_type\": \"Supervised (Regression)\"},\n",
    "    {\"statement\": \"Classify emails as spam or not spam.\", \"learning_type\": \"Supervised (Classification)\"},\n",
    "    {\"statement\": \"Group customers into segments based on purchasing behavior.\", \"learning_type\": \"Unsupervised (Clustering)\"},\n",
    "    {\"statement\": \"Detect anomalies in network traffic data.\", \"learning_type\": \"Unsupervised (Anomaly Detection)\"},\n",
    "    {\"statement\": \"Predict whether a patient has a disease based on medical records.\", \"learning_type\": \"Supervised (Classification)\"}\n",
    "]\n",
    "\n",
    "for p in problems:\n",
    "    print(f\"Problem: {p['statement']}\\nLearning Type: {p['learning_type']}\\n\")"
   ]
  },
  {
   "cell_type": "markdown",
   "metadata": {},
   "source": [
    "Task 3: Identify whether facial recognition systems use supervised or unsupervised learning and justify."
   ]
  },
  {
   "cell_type": "code",
   "execution_count": 4,
   "metadata": {},
   "outputs": [
    {
     "name": "stdout",
     "output_type": "stream",
     "text": [
      "Facial recognition systems usually use supervised learning because they require labeled images (faces with known identities) to train the model to recognize or classify individuals.\n"
     ]
    }
   ],
   "source": [
    "# Task 3: Identify whether facial recognition systems use supervised or unsupervised learning and justify\n",
    "\n",
    "# Facial recognition systems typically use supervised learning.\n",
    "# Justification:\n",
    "# - The system is trained on labeled images, where each face image is associated with a known identity (label).\n",
    "# - The model learns to classify or recognize new images based on these labels.\n",
    "# - Example: Training data consists of face images with corresponding person names or IDs.\n",
    "\n",
    "print(\"Facial recognition systems usually use supervised learning because they require labeled images (faces with known identities) to train the model to recognize or classify individuals.\")"
   ]
  }
 ],
 "metadata": {
  "kernelspec": {
   "display_name": "Python 3",
   "language": "python",
   "name": "python3"
  },
  "language_info": {
   "codemirror_mode": {
    "name": "ipython",
    "version": 3
   },
   "file_extension": ".py",
   "mimetype": "text/x-python",
   "name": "python",
   "nbconvert_exporter": "python",
   "pygments_lexer": "ipython3",
   "version": "3.10.12"
  }
 },
 "nbformat": 4,
 "nbformat_minor": 2
}
