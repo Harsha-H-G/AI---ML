{
 "cells": [
  {
   "cell_type": "markdown",
   "metadata": {},
   "source": [
    "Title: Supervised Learning "
   ]
  },
  {
   "cell_type": "markdown",
   "metadata": {},
   "source": [
    "Task 1: Identify input-output pairs in a dataset of housing prices."
   ]
  },
  {
   "cell_type": "code",
   "execution_count": 1,
   "metadata": {},
   "outputs": [
    {
     "name": "stdout",
     "output_type": "stream",
     "text": [
      "Input features (X):\n",
      "   Size (sqft)  Bedrooms  Age\n",
      "0         1400         3   20\n",
      "1         1600         3   15\n",
      "2         1700         2   18\n",
      "3         1875         4   10\n",
      "4         1100         2   25\n",
      "\n",
      "Output variable (y):\n",
      "0    245000\n",
      "1    312000\n",
      "2    279000\n",
      "3    308000\n",
      "4    199000\n",
      "Name: Price, dtype: int64\n"
     ]
    }
   ],
   "source": [
    "# Example: Identify input-output pairs in a dataset of housing prices\n",
    "\n",
    "import pandas as pd\n",
    "\n",
    "# Sample dataset\n",
    "data = {\n",
    "    'Size (sqft)': [1400, 1600, 1700, 1875, 1100],\n",
    "    'Bedrooms': [3, 3, 2, 4, 2],\n",
    "    'Age': [20, 15, 18, 10, 25],\n",
    "    'Price': [245000, 312000, 279000, 308000, 199000]\n",
    "}\n",
    "df = pd.DataFrame(data)\n",
    "\n",
    "# Inputs (features): all columns except 'Price'\n",
    "X = df[['Size (sqft)', 'Bedrooms', 'Age']]\n",
    "\n",
    "# Output (target): 'Price'\n",
    "y = df['Price']\n",
    "\n",
    "print(\"Input features (X):\")\n",
    "print(X.head())\n",
    "print(\"\\nOutput variable (y):\")\n",
    "print(y.head())"
   ]
  },
  {
   "cell_type": "markdown",
   "metadata": {},
   "source": [
    "Task 2: Match labeled images to their correct classifications."
   ]
  },
  {
   "cell_type": "code",
   "execution_count": 2,
   "metadata": {},
   "outputs": [
    {
     "name": "stdout",
     "output_type": "stream",
     "text": [
      "Image features (inputs):\n",
      "   Feature1  Feature2\n",
      "0       0.2       0.5\n",
      "1       0.8       0.1\n",
      "2       0.4       0.7\n",
      "3       0.9       0.3\n",
      "\n",
      "Correct classifications (outputs):\n",
      "0    Cat\n",
      "1    Dog\n",
      "2    Cat\n",
      "3    Dog\n",
      "Name: Label, dtype: object\n"
     ]
    }
   ],
   "source": [
    "# Example: Match labeled images to their correct classifications\n",
    "\n",
    "# Suppose we have image data represented by feature vectors and their labels\n",
    "import pandas as pd\n",
    "\n",
    "# Sample image features (e.g., extracted pixel values or embeddings)\n",
    "image_features = {\n",
    "    'ImageID': [1, 2, 3, 4],\n",
    "    'Feature1': [0.2, 0.8, 0.4, 0.9],\n",
    "    'Feature2': [0.5, 0.1, 0.7, 0.3],\n",
    "    'Label': ['Cat', 'Dog', 'Cat', 'Dog']\n",
    "}\n",
    "df_images = pd.DataFrame(image_features)\n",
    "\n",
    "# The input is the image features, the output is the label (classification)\n",
    "X_images = df_images[['Feature1', 'Feature2']]\n",
    "y_images = df_images['Label']\n",
    "\n",
    "print(\"Image features (inputs):\")\n",
    "print(X_images)\n",
    "print(\"\\nCorrect classifications (outputs):\")\n",
    "print(y_images)"
   ]
  },
  {
   "cell_type": "markdown",
   "metadata": {},
   "source": [
    "Task 3: List potential inputs and outputs for predicting stock prices."
   ]
  },
  {
   "cell_type": "code",
   "execution_count": 3,
   "metadata": {},
   "outputs": [
    {
     "name": "stdout",
     "output_type": "stream",
     "text": [
      "Potential input features (X):\n",
      "- Previous day's closing price\n",
      "- Opening price\n",
      "- Highest price of the day\n",
      "- Lowest price of the day\n",
      "- Trading volume\n",
      "- Market sentiment score\n",
      "- Economic indicators (e.g., interest rates, inflation)\n",
      "- Company financials (e.g., earnings, revenue)\n",
      "- Technical indicators (e.g., moving averages, RSI)\n",
      "- News headlines\n",
      "\n",
      "Potential output (y):\n",
      "- Next day's closing price\n"
     ]
    }
   ],
   "source": [
    "# List potential inputs and outputs for predicting stock prices\n",
    "\n",
    "# Potential input features (X) for stock price prediction\n",
    "inputs = [\n",
    "    \"Previous day's closing price\",\n",
    "    \"Opening price\",\n",
    "    \"Highest price of the day\",\n",
    "    \"Lowest price of the day\",\n",
    "    \"Trading volume\",\n",
    "    \"Market sentiment score\",\n",
    "    \"Economic indicators (e.g., interest rates, inflation)\",\n",
    "    \"Company financials (e.g., earnings, revenue)\",\n",
    "    \"Technical indicators (e.g., moving averages, RSI)\",\n",
    "    \"News headlines\"\n",
    "]\n",
    "\n",
    "# Potential output (y)\n",
    "output = \"Next day's closing price\"  # or \"Future stock price at a specific time\"\n",
    "\n",
    "print(\"Potential input features (X):\")\n",
    "for feature in inputs:\n",
    "    print(\"-\", feature)\n",
    "\n",
    "print(\"\\nPotential output (y):\")\n",
    "print(\"-\", output)"
   ]
  }
 ],
 "metadata": {
  "kernelspec": {
   "display_name": "Python 3",
   "language": "python",
   "name": "python3"
  },
  "language_info": {
   "codemirror_mode": {
    "name": "ipython",
    "version": 3
   },
   "file_extension": ".py",
   "mimetype": "text/x-python",
   "name": "python",
   "nbconvert_exporter": "python",
   "pygments_lexer": "ipython3",
   "version": "3.10.12"
  }
 },
 "nbformat": 4,
 "nbformat_minor": 2
}
