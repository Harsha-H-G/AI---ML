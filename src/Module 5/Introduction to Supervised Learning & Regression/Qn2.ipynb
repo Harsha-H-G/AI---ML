{
 "cells": [
  {
   "cell_type": "markdown",
   "metadata": {},
   "source": [
    "Title: Types of Supervised Learning: Regression & Classification"
   ]
  },
  {
   "cell_type": "markdown",
   "metadata": {},
   "source": [
    "\n",
    "Task 1: Categorize predicting temperatures (regression) vs. identifying animal species in photo(classification)."
   ]
  },
  {
   "cell_type": "code",
   "execution_count": 1,
   "metadata": {},
   "outputs": [
    {
     "name": "stdout",
     "output_type": "stream",
     "text": [
      "Predicting temperatures: Regression\n",
      "Identifying animal species in a photo: Classification\n"
     ]
    }
   ],
   "source": [
    "# Task 1: Categorize the following problems\n",
    "\n",
    "# Predicting temperatures is a regression problem because the output (temperature) is a continuous numerical value.\n",
    "problem1 = \"Predicting temperatures\"\n",
    "category1 = \"Regression\"\n",
    "\n",
    "# Identifying animal species in a photo is a classification problem because the output is a category or class label (e.g., cat, dog, bird).\n",
    "problem2 = \"Identifying animal species in a photo\"\n",
    "category2 = \"Classification\"\n",
    "\n",
    "print(f\"{problem1}: {category1}\")\n",
    "print(f\"{problem2}: {category2}\")"
   ]
  },
  {
   "cell_type": "markdown",
   "metadata": {},
   "source": [
    "Task 2: Discuss and decide if predicting GPA based on study hours (regression)"
   ]
  },
  {
   "cell_type": "code",
   "execution_count": 2,
   "metadata": {},
   "outputs": [
    {
     "name": "stdout",
     "output_type": "stream",
     "text": [
      "Predicting GPA based on study hours: Regression\n"
     ]
    }
   ],
   "source": [
    "# Task 2: Discuss and decide if predicting GPA based on study hours\n",
    "\n",
    "# Predicting GPA based on study hours is a regression problem\n",
    "# because GPA is a continuous numerical value.\n",
    "\n",
    "problem = \"Predicting GPA based on study hours\"\n",
    "category = \"Regression\"\n",
    "\n",
    "print(f\"{problem}: {category}\")"
   ]
  },
  {
   "cell_type": "markdown",
   "metadata": {},
   "source": [
    "\n",
    "Task 3: Evaluate whether a model for predicting customer churn is classification or regression."
   ]
  },
  {
   "cell_type": "code",
   "execution_count": 3,
   "metadata": {},
   "outputs": [
    {
     "name": "stdout",
     "output_type": "stream",
     "text": [
      "Predicting customer churn: Classification\n"
     ]
    }
   ],
   "source": [
    "# Task 3: Evaluate whether a model for predicting customer churn is classification or regression\n",
    "\n",
    "# Predicting customer churn is a classification problem\n",
    "# because the output is typically a categorical label: churned (yes/no) or (1/0).\n",
    "\n",
    "problem = \"Predicting customer churn\"\n",
    "category = \"Classification\"\n",
    "\n",
    "print(f\"{problem}: {category}\")"
   ]
  }
 ],
 "metadata": {
  "kernelspec": {
   "display_name": "Python 3",
   "language": "python",
   "name": "python3"
  },
  "language_info": {
   "codemirror_mode": {
    "name": "ipython",
    "version": 3
   },
   "file_extension": ".py",
   "mimetype": "text/x-python",
   "name": "python",
   "nbconvert_exporter": "python",
   "pygments_lexer": "ipython3",
   "version": "3.10.12"
  }
 },
 "nbformat": 4,
 "nbformat_minor": 2
}
