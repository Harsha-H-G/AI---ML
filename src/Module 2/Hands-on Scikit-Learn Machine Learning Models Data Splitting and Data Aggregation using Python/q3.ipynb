{
 "cells": [
  {
   "cell_type": "code",
   "execution_count": 2,
   "metadata": {},
   "outputs": [
    {
     "name": "stdout",
     "output_type": "stream",
     "text": [
      "Best parameters: {'lasso__alpha': 10}\n",
      "Test MSE: 415242159.2409008\n"
     ]
    }
   ],
   "source": [
    "# Question 3: Advanced Model Evaluation with Feature Selection for House Prices\n",
    "\n",
    "# Step 1: Load a house prices dataset from CSV (Assume you have a house_prices.csv ).\n",
    "# Step 2: Apply feature selection and create a train-test split.\n",
    "# Step 3: Train a Lasso Regression model.\n",
    "# Step 4: Perform model evaluation and hyperparameter tuning using GridSearchCV.\n",
    "\n",
    "import pandas as pd\n",
    "from sklearn.model_selection import train_test_split, GridSearchCV\n",
    "from sklearn.linear_model import Lasso\n",
    "from sklearn.feature_selection import SelectKBest, f_regression\n",
    "from sklearn.pipeline import Pipeline\n",
    "from sklearn.metrics import mean_squared_error\n",
    "\n",
    "# Step 1: Load the house prices dataset\n",
    "try:\n",
    "    df = pd.read_csv('house_prices.csv')\n",
    "except FileNotFoundError:\n",
    "    # Create a small synthetic dataset for demonstration\n",
    "    df = pd.DataFrame({\n",
    "        'LotArea': [8450, 9600, 11250, 9550, 14260, 10000, 8500, 12000, 13000, 9000],\n",
    "        'OverallQual': [7, 6, 7, 7, 8, 5, 6, 8, 7, 6],\n",
    "        'YearBuilt': [2003, 1976, 2001, 1915, 2000, 1995, 1980, 2005, 2010, 1970],\n",
    "        'TotalBsmtSF': [856, 1262, 920, 756, 1145, 800, 900, 1100, 1200, 950],\n",
    "        'GrLivArea': [1710, 1262, 1786, 1717, 2198, 1500, 1400, 2000, 2100, 1600],\n",
    "        'SalePrice': [208500, 181500, 223500, 140000, 250000, 175000, 160000, 240000, 260000, 180000]\n",
    "    })\n",
    "\n",
    "# Step 2: Feature selection and train-test split\n",
    "X = df.drop('SalePrice', axis=1)\n",
    "y = df['SalePrice']\n",
    "\n",
    "# Use SelectKBest for feature selection (select top 3 features)\n",
    "feature_selector = SelectKBest(score_func=f_regression, k=3)\n",
    "\n",
    "X_train, X_test, y_train, y_test = train_test_split(X, y, test_size=0.2, random_state=42)\n",
    "\n",
    "# Step 3 & 4: Pipeline with Lasso Regression and GridSearchCV for hyperparameter tuning\n",
    "pipeline = Pipeline([\n",
    "    ('select', feature_selector),\n",
    "    ('lasso', Lasso(max_iter=10000, random_state=42))\n",
    "])\n",
    "\n",
    "param_grid = {\n",
    "    'lasso__alpha': [0.01, 0.1, 1, 10]\n",
    "}\n",
    "\n",
    "# Use cv=2 to avoid R^2 warnings with very small test sets\n",
    "grid_search = GridSearchCV(pipeline, param_grid, cv=2, error_score='raise')\n",
    "grid_search.fit(X_train, y_train)\n",
    "\n",
    "print(\"Best parameters:\", grid_search.best_params_)\n",
    "\n",
    "# Model evaluation\n",
    "y_pred = grid_search.predict(X_test)\n",
    "mse = mean_squared_error(y_test, y_pred)\n",
    "print(\"Test MSE:\", mse)"
   ]
  }
 ],
 "metadata": {
  "kernelspec": {
   "display_name": "Python 3",
   "language": "python",
   "name": "python3"
  },
  "language_info": {
   "codemirror_mode": {
    "name": "ipython",
    "version": 3
   },
   "file_extension": ".py",
   "mimetype": "text/x-python",
   "name": "python",
   "nbconvert_exporter": "python",
   "pygments_lexer": "ipython3",
   "version": "3.10.12"
  }
 },
 "nbformat": 4,
 "nbformat_minor": 2
}
