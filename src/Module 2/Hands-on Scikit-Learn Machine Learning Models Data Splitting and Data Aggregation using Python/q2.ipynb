{
 "cells": [
  {
   "cell_type": "code",
   "execution_count": 1,
   "metadata": {},
   "outputs": [
    {
     "name": "stdout",
     "output_type": "stream",
     "text": [
      "Best parameters: {'clf__max_depth': 3, 'clf__n_estimators': 50}\n",
      "Cross-validation scores: [1.   0.75 0.75]\n",
      "Mean CV score: 0.8333333333333334\n"
     ]
    }
   ],
   "source": [
    "# Question 2: Feature Engineering & Hyperparameter Tuning on the Titanic Dataset\n",
    "\n",
    "# Step 1: Load the Titanic dataset (Assume you have a file named titanic.csv ).\n",
    "# Step 2: Create features and handle missing values.\n",
    "# Step 3: Train a pipeline using a Random Forest with GridSearchCV.\n",
    "# Step 4: Evaluate the tuned model with cross-validation.\n",
    "\n",
    "import pandas as pd\n",
    "from sklearn.model_selection import GridSearchCV, cross_val_score, StratifiedKFold\n",
    "from sklearn.ensemble import RandomForestClassifier\n",
    "from sklearn.pipeline import Pipeline\n",
    "from sklearn.impute import SimpleImputer\n",
    "from sklearn.preprocessing import OneHotEncoder, StandardScaler\n",
    "from sklearn.compose import ColumnTransformer\n",
    "\n",
    "# Step 1: Load the Titanic dataset\n",
    "try:\n",
    "    df = pd.read_csv('titanic.csv')\n",
    "except FileNotFoundError:\n",
    "    # Create a larger synthetic dataset for demonstration to avoid warnings\n",
    "    df = pd.DataFrame({\n",
    "        'Pclass': [1, 3, 2, 1, 3, 2, 1, 3, 2, 1, 3, 2],\n",
    "        'Sex': ['male', 'female', 'female', 'male', 'female', 'male', 'female', 'male', 'female', 'male', 'female', 'male'],\n",
    "        'Age': [22, 38, 26, 35, 28, 40, 30, 24, 29, 31, 27, 36],\n",
    "        'Fare': [71.2833, 7.925, 13.0, 53.1, 8.05, 20.0, 15.5, 9.0, 12.5, 18.0, 7.75, 21.0],\n",
    "        'Embarked': ['C', 'S', 'S', 'S', 'C', 'Q', 'S', 'C', 'Q', 'S', 'C', 'Q'],\n",
    "        'Survived': [1, 0, 1, 1, 0, 0, 1, 0, 1, 1, 0, 1]\n",
    "    })\n",
    "\n",
    "# Step 2: Create features and handle missing values\n",
    "X = df.drop('Survived', axis=1)\n",
    "y = df['Survived']\n",
    "\n",
    "numeric_features = ['Age', 'Fare']\n",
    "numeric_transformer = Pipeline([\n",
    "    ('imputer', SimpleImputer(strategy='mean')),\n",
    "    ('scaler', StandardScaler())\n",
    "])\n",
    "\n",
    "categorical_features = ['Pclass', 'Sex', 'Embarked']\n",
    "categorical_transformer = Pipeline([\n",
    "    ('imputer', SimpleImputer(strategy='most_frequent')),\n",
    "    ('onehot', OneHotEncoder(handle_unknown='ignore'))\n",
    "])\n",
    "\n",
    "preprocessor = ColumnTransformer([\n",
    "    ('num', numeric_transformer, numeric_features),\n",
    "    ('cat', categorical_transformer, categorical_features)\n",
    "])\n",
    "\n",
    "# Step 3: Train a pipeline using a Random Forest with GridSearchCV\n",
    "pipeline = Pipeline([\n",
    "    ('preprocessor', preprocessor),\n",
    "    ('clf', RandomForestClassifier(random_state=42))\n",
    "])\n",
    "\n",
    "param_grid = {\n",
    "    'clf__n_estimators': [50, 100],\n",
    "    'clf__max_depth': [3, 5, None]\n",
    "}\n",
    "\n",
    "# Use StratifiedKFold to ensure balanced splits and avoid warnings\n",
    "cv = StratifiedKFold(n_splits=3, shuffle=True, random_state=42)\n",
    "grid_search = GridSearchCV(pipeline, param_grid, cv=cv)\n",
    "grid_search.fit(X, y)\n",
    "\n",
    "print(\"Best parameters:\", grid_search.best_params_)\n",
    "\n",
    "# Step 4: Evaluate the tuned model with cross-validation\n",
    "cv_scores = cross_val_score(grid_search.best_estimator_, X, y, cv=cv)\n",
    "print(\"Cross-validation scores:\", cv_scores)\n",
    "print(\"Mean CV score:\", cv_scores.mean())"
   ]
  }
 ],
 "metadata": {
  "kernelspec": {
   "display_name": "Python 3",
   "language": "python",
   "name": "python3"
  },
  "language_info": {
   "codemirror_mode": {
    "name": "ipython",
    "version": 3
   },
   "file_extension": ".py",
   "mimetype": "text/x-python",
   "name": "python",
   "nbconvert_exporter": "python",
   "pygments_lexer": "ipython3",
   "version": "3.10.12"
  }
 },
 "nbformat": 4,
 "nbformat_minor": 2
}
