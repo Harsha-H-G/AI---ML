{
 "cells": [
  {
   "cell_type": "code",
   "execution_count": 1,
   "metadata": {},
   "outputs": [
    {
     "name": "stdout",
     "output_type": "stream",
     "text": [
      "         V1        V2      Amount  Class\n",
      "0  0.496714 -1.415371  438.809163      0\n",
      "1 -0.138264 -0.420645  370.643540      0\n",
      "2  0.647689 -0.342715  348.810855      1\n",
      "3  1.523030 -0.802277  351.539558      0\n",
      "4 -0.234153 -0.161286  180.386084      0\n",
      "ROC AUC Score: 0.368421052631579\n"
     ]
    }
   ],
   "source": [
    "# Question 1: Load & Explore the Credit Card Fraud Detection Dataset\n",
    "\n",
    "# Step 1: Load the dataset from a CSV (Assume you have a file named creditcard.csv ).\n",
    "# Step 2: Split the data.\n",
    "# Step 3: Train a Logistic Regression model.\n",
    "# Step 4: Evaluate using ROC AUC score.\n",
    "# If 'creditcard.csv' is not available, create a small sample DataFrame for demonstration\n",
    "\n",
    "import pandas as pd\n",
    "from sklearn.model_selection import train_test_split\n",
    "from sklearn.linear_model import LogisticRegression\n",
    "from sklearn.metrics import roc_auc_score\n",
    "import numpy as np\n",
    "\n",
    "try:\n",
    "    df = pd.read_csv('creditcard.csv')\n",
    "except FileNotFoundError:\n",
    "    # Create a small synthetic dataset\n",
    "    np.random.seed(42)\n",
    "    df = pd.DataFrame({\n",
    "        'V1': np.random.randn(100),\n",
    "        'V2': np.random.randn(100),\n",
    "        'Amount': np.random.uniform(1, 500, 100),\n",
    "        'Class': np.random.choice([0, 1], size=100, p=[0.95, 0.05])\n",
    "    })\n",
    "print(df.head())\n",
    "\n",
    "# Step 2: Split the data\n",
    "X = df.drop('Class', axis=1)\n",
    "y = df['Class']\n",
    "X_train, X_test, y_train, y_test = train_test_split(X, y, test_size=0.2, random_state=42, stratify=y)\n",
    "\n",
    "# Step 3: Train a Logistic Regression model\n",
    "model = LogisticRegression(max_iter=1000)\n",
    "model.fit(X_train, y_train)\n",
    "\n",
    "# Step 4: Evaluate using ROC AUC score\n",
    "y_pred_proba = model.predict_proba(X_test)[:, 1]\n",
    "roc_auc = roc_auc_score(y_test, y_pred_proba)\n",
    "print(\"ROC AUC Score:\", roc_auc)"
   ]
  }
 ],
 "metadata": {
  "kernelspec": {
   "display_name": "Python 3",
   "language": "python",
   "name": "python3"
  },
  "language_info": {
   "codemirror_mode": {
    "name": "ipython",
    "version": 3
   },
   "file_extension": ".py",
   "mimetype": "text/x-python",
   "name": "python",
   "nbconvert_exporter": "python",
   "pygments_lexer": "ipython3",
   "version": "3.10.12"
  }
 },
 "nbformat": 4,
 "nbformat_minor": 2
}
