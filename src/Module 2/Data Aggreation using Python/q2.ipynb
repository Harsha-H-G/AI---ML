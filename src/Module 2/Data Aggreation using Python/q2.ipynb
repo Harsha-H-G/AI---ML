{
 "cells": [
  {
   "cell_type": "markdown",
   "metadata": {},
   "source": [
    "Title: Grouping & Aggregating Data using Pandas<br>\n",
    "Objective: Learn how to group data and perform aggregations on these groups."
   ]
  },
  {
   "cell_type": "markdown",
   "metadata": {},
   "source": [
    "Task 1: Grouping by a Single Column<br>\n",
    "\n",
    "Task: Group the dataset by 'region' and calculate total sales per region.<br>\n",
    "Steps:<br>\n",
    "10. Load the dataset.<br>\n",
    "11. Use groupby('region') on the DataFrame.<br>\n",
    "12. Apply .sum() to the 'sales' column."
   ]
  },
  {
   "cell_type": "code",
   "execution_count": 1,
   "metadata": {},
   "outputs": [
    {
     "name": "stdout",
     "output_type": "stream",
     "text": [
      "region\n",
      "East     250\n",
      "South    700\n",
      "West     450\n",
      "Name: sales, dtype: int64\n"
     ]
    }
   ],
   "source": [
    "# Write your code from here\n",
    "\n",
    "# Sample dataset creation (if not already loaded)\n",
    "import pandas as pd\n",
    "\n",
    "data = {\n",
    "    'region': ['East', 'West', 'East', 'South', 'West', 'South'],\n",
    "    'sales': [100, 200, 150, 300, 250, 400],\n",
    "    'category': ['A', 'B', 'A', 'B', 'A', 'B'],\n",
    "    'quantity': [1, 2, 3, 4, 5, 6]\n",
    "}\n",
    "df = pd.DataFrame(data)\n",
    "\n",
    "# Group by 'region' and calculate total sales per region\n",
    "sales_per_region = df.groupby('region')['sales'].sum()\n",
    "print(sales_per_region)"
   ]
  },
  {
   "cell_type": "markdown",
   "metadata": {},
   "source": [
    "Task 2: Grouping by Multiple Columns<br>\n",
    "\n",
    "Task: Group the dataset by 'region' and 'category', then find the average sales.<br>\n",
    "Steps:<br>\n",
    "13. Group by ['region', 'category'].<br>\n",
    "14. Use .mean() on the 'sales' column.<br>\n",
    "15. Examine the resulting DataFrame structure."
   ]
  },
  {
   "cell_type": "code",
   "execution_count": 2,
   "metadata": {},
   "outputs": [
    {
     "name": "stdout",
     "output_type": "stream",
     "text": [
      "region  category\n",
      "East    A           125.0\n",
      "South   B           350.0\n",
      "West    A           250.0\n",
      "        B           200.0\n",
      "Name: sales, dtype: float64\n",
      "\n",
      "Resulting DataFrame structure:\n",
      "  region category  sales\n",
      "0   East        A  125.0\n",
      "1  South        B  350.0\n",
      "2   West        A  250.0\n",
      "3   West        B  200.0\n"
     ]
    }
   ],
   "source": [
    "# Write your code from here\n",
    "\n",
    "# Group by 'region' and 'category', then find the average sales\n",
    "avg_sales = df.groupby(['region', 'category'])['sales'].mean()\n",
    "print(avg_sales)\n",
    "\n",
    "# To examine the resulting DataFrame structure\n",
    "print(\"\\nResulting DataFrame structure:\")\n",
    "print(avg_sales.reset_index())"
   ]
  },
  {
   "cell_type": "markdown",
   "metadata": {},
   "source": [
    "Task 3: Aggregating Multiple Functions<br>\n",
    "\n",
    "Task: Group data by 'category' and apply multiple aggregation functions (sum and count) on 'quantity'.<br>\n",
    "Steps:<br>\n",
    "16. Group by 'category'.<br>\n",
    "17. Use .agg(['sum', 'count']) on 'quantity'.<br>\n",
    "18. Analyze the result to understand how multiple aggregations work."
   ]
  },
  {
   "cell_type": "code",
   "execution_count": 3,
   "metadata": {},
   "outputs": [
    {
     "name": "stdout",
     "output_type": "stream",
     "text": [
      "          sum  count\n",
      "category            \n",
      "A           9      3\n",
      "B          12      3\n"
     ]
    }
   ],
   "source": [
    "# Write your code from here\n",
    "# Group by 'category' and apply multiple aggregation functions (sum and count) on 'quantity'\n",
    "quantity_agg = df.groupby('category')['quantity'].agg(['sum', 'count'])\n",
    "print(quantity_agg)\n",
    "\n",
    "# The result shows, for each category, the total quantity (sum) and the number of records (count).\n"
   ]
  }
 ],
 "metadata": {
  "kernelspec": {
   "display_name": "Python 3",
   "language": "python",
   "name": "python3"
  },
  "language_info": {
   "codemirror_mode": {
    "name": "ipython",
    "version": 3
   },
   "file_extension": ".py",
   "mimetype": "text/x-python",
   "name": "python",
   "nbconvert_exporter": "python",
   "pygments_lexer": "ipython3",
   "version": "3.10.12"
  }
 },
 "nbformat": 4,
 "nbformat_minor": 2
}
