{
 "cells": [
  {
   "cell_type": "markdown",
   "metadata": {},
   "source": [
    "Pivot Tables & Advanced Aggregations<br>\n",
    "Objective: Utilize pivot tables for complex aggregation tasks."
   ]
  },
  {
   "cell_type": "markdown",
   "metadata": {},
   "source": [
    "Task 1: Creating a Basic Pivot Table<br>\n",
    "Task: Create a pivot table that shows the total sales for each 'category' across 'years'.<br>\n",
    "Steps:<br>\n",
    "19. Use pandas pivot_table() function.<br>\n",
    "20. Set index='year' and columns='category' .<br>\n",
    "21. Define the value parameter as 'sales' and aggregation function as np.sum ."
   ]
  },
  {
   "cell_type": "code",
   "execution_count": 1,
   "metadata": {},
   "outputs": [
    {
     "name": "stdout",
     "output_type": "stream",
     "text": [
      "category    A    B    C\n",
      "year                   \n",
      "2022      100  200  120\n",
      "2023      150  250  300\n"
     ]
    },
    {
     "name": "stderr",
     "output_type": "stream",
     "text": [
      "/tmp/ipykernel_12669/3346011880.py:14: FutureWarning: The provided callable <function sum at 0x74e838093c70> is currently using DataFrameGroupBy.sum. In a future version of pandas, the provided callable will be used directly. To keep current behavior pass the string \"sum\" instead.\n",
      "  pivot = pd.pivot_table(\n"
     ]
    }
   ],
   "source": [
    "# Write your code from here\n",
    "import pandas as pd\n",
    "import numpy as np\n",
    "\n",
    "# Sample dataset for demonstration\n",
    "data = {\n",
    "    'year': [2022, 2022, 2023, 2023, 2023, 2022],\n",
    "    'category': ['A', 'B', 'A', 'B', 'C', 'C'],\n",
    "    'sales': [100, 200, 150, 250, 300, 120]\n",
    "}\n",
    "df = pd.DataFrame(data)\n",
    "\n",
    "# Create a pivot table showing total sales for each 'category' across 'years'\n",
    "pivot = pd.pivot_table(\n",
    "    df,\n",
    "    index='year',\n",
    "    columns='category',\n",
    "    values='sales',\n",
    "    aggfunc=np.sum\n",
    ")\n",
    "print(pivot)"
   ]
  },
  {
   "cell_type": "markdown",
   "metadata": {},
   "source": [
    "Task 2: Pivot Table with Multiple Aggregations<br>\n",
    "\n",
    "Task: Generate a pivot table with both mean and max of 'profit' for 'category' each month.<br>\n",
    "Steps:<br>\n",
    "22. Create a pivot table.<br>\n",
    "23. Use aggfunc=['mean', 'max'] .<br>\n",
    "24. Analyze the pivot table output."
   ]
  },
  {
   "cell_type": "code",
   "execution_count": 2,
   "metadata": {},
   "outputs": [
    {
     "name": "stdout",
     "output_type": "stream",
     "text": [
      "          mean             max        \n",
      "category     A     B     C   A   B   C\n",
      "month                                 \n",
      "Feb       40.0  60.0  80.0  40  60  80\n",
      "Jan       30.0  50.0  35.0  30  50  35\n"
     ]
    }
   ],
   "source": [
    "# Write your code from here\n",
    "import pandas as pd\n",
    "import numpy as np\n",
    "\n",
    "# Sample dataset with 'month', 'category', and 'profit'\n",
    "data = {\n",
    "    'month': ['Jan', 'Jan', 'Feb', 'Feb', 'Feb', 'Jan'],\n",
    "    'category': ['A', 'B', 'A', 'B', 'C', 'C'],\n",
    "    'profit': [30, 50, 40, 60, 80, 35]\n",
    "}\n",
    "df = pd.DataFrame(data)\n",
    "\n",
    "# Create a pivot table with both mean and max of 'profit' for 'category' each month\n",
    "pivot = pd.pivot_table(\n",
    "    df,\n",
    "    index='month',\n",
    "    columns='category',\n",
    "    values='profit',\n",
    "    aggfunc=['mean', 'max']\n",
    ")\n",
    "print(pivot)\n"
   ]
  },
  {
   "cell_type": "markdown",
   "metadata": {},
   "source": [
    "Task 3: Advanced Pivot Table with Margins<br>\n",
    "\n",
    "Task: Create a pivot table that includes subtotals for each 'region' and 'category'.<br>\n",
    "Steps:<br>\n",
    "25. Use pivot_table() with margins=True .<br>\n",
    "26. Set the index and columns appropriately.<br>\n",
    "27. Validate subtotal correctness by summing manually."
   ]
  },
  {
   "cell_type": "code",
   "execution_count": 3,
   "metadata": {},
   "outputs": [
    {
     "name": "stdout",
     "output_type": "stream",
     "text": [
      "category      A      B  Total\n",
      "region                       \n",
      "East      250.0    NaN    250\n",
      "South       NaN  700.0    700\n",
      "West      250.0  200.0    450\n",
      "Total     500.0  900.0   1400\n",
      "\n",
      "Manual total sales: 1400\n"
     ]
    },
    {
     "name": "stderr",
     "output_type": "stream",
     "text": [
      "/tmp/ipykernel_12669/3327545686.py:15: FutureWarning: The provided callable <function sum at 0x74e838093c70> is currently using DataFrameGroupBy.sum. In a future version of pandas, the provided callable will be used directly. To keep current behavior pass the string \"sum\" instead.\n",
      "  pivot = pd.pivot_table(\n",
      "/tmp/ipykernel_12669/3327545686.py:15: FutureWarning: The provided callable <function sum at 0x74e838093c70> is currently using DataFrameGroupBy.sum. In a future version of pandas, the provided callable will be used directly. To keep current behavior pass the string \"sum\" instead.\n",
      "  pivot = pd.pivot_table(\n",
      "/tmp/ipykernel_12669/3327545686.py:15: FutureWarning: The provided callable <function sum at 0x74e838093c70> is currently using DataFrameGroupBy.sum. In a future version of pandas, the provided callable will be used directly. To keep current behavior pass the string \"sum\" instead.\n",
      "  pivot = pd.pivot_table(\n"
     ]
    }
   ],
   "source": [
    "# Write your code from here\n",
    "\n",
    "import pandas as pd\n",
    "import numpy as np\n",
    "\n",
    "# Sample dataset with 'region', 'category', and 'sales'\n",
    "data = {\n",
    "    'region': ['East', 'West', 'East', 'South', 'West', 'South'],\n",
    "    'category': ['A', 'B', 'A', 'B', 'A', 'B'],\n",
    "    'sales': [100, 200, 150, 300, 250, 400]\n",
    "}\n",
    "df = pd.DataFrame(data)\n",
    "\n",
    "# Create a pivot table with subtotals (margins) for each 'region' and 'category'\n",
    "pivot = pd.pivot_table(\n",
    "    df,\n",
    "    index='region',\n",
    "    columns='category',\n",
    "    values='sales',\n",
    "    aggfunc=np.sum,\n",
    "    margins=True,\n",
    "    margins_name='Total'\n",
    ")\n",
    "print(pivot)\n",
    "\n",
    "# Validate subtotal correctness by summing manually\n",
    "manual_total = df['sales'].sum()\n",
    "print(\"\\nManual total sales:\", manual_total)"
   ]
  }
 ],
 "metadata": {
  "kernelspec": {
   "display_name": "Python 3",
   "language": "python",
   "name": "python3"
  },
  "language_info": {
   "codemirror_mode": {
    "name": "ipython",
    "version": 3
   },
   "file_extension": ".py",
   "mimetype": "text/x-python",
   "name": "python",
   "nbconvert_exporter": "python",
   "pygments_lexer": "ipython3",
   "version": "3.10.12"
  }
 },
 "nbformat": 4,
 "nbformat_minor": 2
}
