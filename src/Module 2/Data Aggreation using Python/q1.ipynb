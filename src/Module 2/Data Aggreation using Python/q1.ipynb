{
 "cells": [
  {
   "cell_type": "markdown",
   "metadata": {},
   "source": [
    "Title: Introduction to Data Aggregation\n",
    "<br>\n",
    "Objective: Understand the basic concepts of data aggregation and practice simple aggregation methods."
   ]
  },
  {
   "cell_type": "markdown",
   "metadata": {},
   "source": [
    "Task 1: Calculating Sum\n",
    "<br>\n",
    "Task: Use a numerical dataset containing columns like 'sales', 'profit', and 'quantity'.\n",
    "Calculate the total sales for the dataset.\n",
    "<br>\n",
    "Steps:<br>\n",
    "1. Load the dataset using pandas.<br>\n",
    "2. Apply the .sum() function on the 'sales' column.<br>\n",
    "3. Verify the result by manually summing a portion of the 'sales' values."
   ]
  },
  {
   "cell_type": "code",
   "execution_count": 2,
   "metadata": {},
   "outputs": [
    {
     "name": "stdout",
     "output_type": "stream",
     "text": [
      "Total sales (using .sum()): 1500\n",
      "Manual sum of first three sales values: 600\n"
     ]
    }
   ],
   "source": [
    "# Write your code from here\n",
    "# Calculate the total sales using .sum() and verify by manually summing a portion\n",
    "\n",
    "import pandas as pd\n",
    "\n",
    "# Recreate the dataset as per the previous conversation\n",
    "data = {'sales': [100, 200, 300, 400, 500],\n",
    "        'profit': [10, 20, 30, 40, 50],\n",
    "        'quantity': [1, 2, 3, 4, 5]}\n",
    "df = pd.DataFrame(data)\n",
    "df.head()\n",
    "\n",
    "# Task 1: Calculate total sales\n",
    "total_sales = df['sales'].sum()\n",
    "print(\"Total sales (using .sum()):\", total_sales)\n",
    "\n",
    "# Manually sum the first three sales values to verify\n",
    "manual_sum = sum(df['sales'][:3])\n",
    "print(\"Manual sum of first three sales values:\", manual_sum)"
   ]
  },
  {
   "cell_type": "markdown",
   "metadata": {},
   "source": [
    "Task 2: Calculating Mean<br>\n",
    "\n",
    "Task: Calculate the average quantity sold.<br>\n",
    "Steps:<br>\n",
    "4. Load the dataset.<br>\n",
    "5. Use the .mean() function on the 'quantity' column to find the average.<br>\n",
    "6. Double-check by calculating the mean manually on a small selection."
   ]
  },
  {
   "cell_type": "code",
   "execution_count": 3,
   "metadata": {},
   "outputs": [
    {
     "data": {
      "text/plain": [
       "2.0"
      ]
     },
     "execution_count": 3,
     "metadata": {},
     "output_type": "execute_result"
    }
   ],
   "source": [
    "# Write your code from here\n",
    "import pandas as pd\n",
    "\n",
    "# Recreate the dataset as per the previous conversation\n",
    "data = {'sales': [100, 200, 300, 400, 500],\n",
    "        'profit': [10, 20, 30, 40, 50],\n",
    "        'quantity': [1, 2, 3, 4, 5]}\n",
    "df = pd.DataFrame(data)\n",
    "df.head()\n",
    "\n",
    "average_quantity = df['quantity'].mean()\n",
    "average_quantity\n",
    "\n",
    "manual_mean = sum(df['quantity'][:3]) / 3\n",
    "manual_mean"
   ]
  }
 ],
 "metadata": {
  "kernelspec": {
   "display_name": "Python 3",
   "language": "python",
   "name": "python3"
  },
  "language_info": {
   "codemirror_mode": {
    "name": "ipython",
    "version": 3
   },
   "file_extension": ".py",
   "mimetype": "text/x-python",
   "name": "python",
   "nbconvert_exporter": "python",
   "pygments_lexer": "ipython3",
   "version": "3.10.12"
  }
 },
 "nbformat": 4,
 "nbformat_minor": 2
}
