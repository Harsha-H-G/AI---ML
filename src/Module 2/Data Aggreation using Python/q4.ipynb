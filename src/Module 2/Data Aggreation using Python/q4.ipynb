{
 "cells": [
  {
   "cell_type": "markdown",
   "metadata": {},
   "source": [
    "Title: Hands-on: Real-World Data Aggregation<br>\n",
    "Objective: Apply learned concepts to real-world data scenarios"
   ]
  },
  {
   "cell_type": "markdown",
   "metadata": {},
   "source": [
    "Task 1: Analyzing Sales by Region<br>\n",
    "\n",
    "Task: Use a real-world sales dataset to calculate yearly sales trends by region.<br>\n",
    " Steps:<br>\n",
    " 28. Acquire a dataset containing columns such as 'date', 'region', and 'sales'.<br>\n",
    " 29. Extract the year from the 'date' column.<br>\n",
    " 30. Group by 'year' and 'region' to apply the sum aggregation on 'sales'"
   ]
  },
  {
   "cell_type": "code",
   "execution_count": 1,
   "metadata": {},
   "outputs": [
    {
     "name": "stdout",
     "output_type": "stream",
     "text": [
      "   year region  sales\n",
      "0  2022   East   1200\n",
      "1  2022   West   3300\n",
      "2  2023   East   1700\n",
      "3  2023  South   3350\n"
     ]
    }
   ],
   "source": [
    "# Write your code from here\n",
    "\n",
    "# Sample dataset creation for demonstration\n",
    "import pandas as pd\n",
    "\n",
    "data = {\n",
    "    'date': ['2022-01-15', '2022-03-22', '2023-05-10', '2023-07-19', '2022-11-05', '2023-02-14'],\n",
    "    'region': ['East', 'West', 'East', 'South', 'West', 'South'],\n",
    "    'sales': [1200, 1500, 1700, 1600, 1800, 1750]\n",
    "}\n",
    "df = pd.DataFrame(data)\n",
    "\n",
    "# Convert 'date' to datetime and extract year\n",
    "df['date'] = pd.to_datetime(df['date'])\n",
    "df['year'] = df['date'].dt.year\n",
    "\n",
    "# Group by 'year' and 'region', then sum 'sales'\n",
    "yearly_sales_by_region = df.groupby(['year', 'region'])['sales'].sum().reset_index()\n",
    "print(yearly_sales_by_region)"
   ]
  },
  {
   "cell_type": "markdown",
   "metadata": {},
   "source": [
    "Task 2: Customer Purchase Patterns<br>\n",
    "\n",
    "Task: Find the top 5 customers by the total amount spent using a purchases dataset.<br>\n",
    " Steps:<br>\n",
    " 31. Load a dataset with 'customer_id' and 'amount_spent'.<br>\n",
    " 32. Group by 'customer_id'.<br>\n",
    " 33. Use .sum() on 'amount_spent' and sort values"
   ]
  },
  {
   "cell_type": "code",
   "execution_count": 2,
   "metadata": {},
   "outputs": [
    {
     "name": "stdout",
     "output_type": "stream",
     "text": [
      "customer_id\n",
      "110    800\n",
      "109    700\n",
      "108    600\n",
      "101    600\n",
      "102    500\n",
      "Name: amount_spent, dtype: int64\n"
     ]
    }
   ],
   "source": [
    "# Write your code from here\n",
    "\n",
    "# Sample purchases dataset for demonstration\n",
    "import pandas as pd\n",
    "\n",
    "data = {\n",
    "    'customer_id': [101, 102, 103, 104, 105, 101, 102, 106, 107, 103, 108, 109, 110, 101],\n",
    "    'amount_spent': [250, 400, 150, 300, 500, 200, 100, 350, 450, 300, 600, 700, 800, 150]\n",
    "}\n",
    "df = pd.DataFrame(data)\n",
    "\n",
    "# Group by 'customer_id' and sum 'amount_spent'\n",
    "customer_totals = df.groupby('customer_id')['amount_spent'].sum()\n",
    "\n",
    "# Sort values in descending order and get top 5 customers\n",
    "top_5_customers = customer_totals.sort_values(ascending=False).head(5)\n",
    "print(top_5_customers)"
   ]
  },
  {
   "cell_type": "markdown",
   "metadata": {},
   "source": [
    " Task 3: Seasonality Analysis<br>\n",
    "\n",
    " Task: Determine which months have the highest and lowest sales for a retail dataset.<br>\n",
    " Steps:<br>\n",
    " 34. Use a dataset with 'transaction_date' and 'sales'.<br>\n",
    " 35. Extract the month from 'transaction_date'.<br>\n",
    " 36. Group by 'month' and sum 'sales', then sort to find extremes"
   ]
  },
  {
   "cell_type": "code",
   "execution_count": 3,
   "metadata": {},
   "outputs": [
    {
     "name": "stdout",
     "output_type": "stream",
     "text": [
      "   month  sales\n",
      "3      4   1900\n",
      "1      2   1500\n",
      "0      1    900\n",
      "2      3    900\n"
     ]
    }
   ],
   "source": [
    "# Write your code from here\n",
    "# Sample retail dataset for demonstration\n",
    "import pandas as pd\n",
    "\n",
    "data = {\n",
    "    'transaction_date': [\n",
    "        '2023-01-15', '2023-02-20', '2023-03-10', '2023-01-25',\n",
    "        '2023-02-14', '2023-03-30', '2023-04-05', '2023-04-18'\n",
    "    ],\n",
    "    'sales': [500, 700, 600, 400, 800, 300, 900, 1000]\n",
    "}\n",
    "df = pd.DataFrame(data)\n",
    "\n",
    "# Convert 'transaction_date' to datetime and extract month\n",
    "df['transaction_date'] = pd.to_datetime(df['transaction_date'])\n",
    "df['month'] = df['transaction_date'].dt.month\n",
    "\n",
    "# Group by 'month' and sum 'sales'\n",
    "monthly_sales = df.groupby('month')['sales'].sum().reset_index()\n",
    "\n",
    "# Sort to find months with highest and lowest sales\n",
    "monthly_sales_sorted = monthly_sales.sort_values('sales', ascending=False)\n",
    "print(monthly_sales_sorted)\n"
   ]
  }
 ],
 "metadata": {
  "kernelspec": {
   "display_name": "Python 3",
   "language": "python",
   "name": "python3"
  },
  "language_info": {
   "codemirror_mode": {
    "name": "ipython",
    "version": 3
   },
   "file_extension": ".py",
   "mimetype": "text/x-python",
   "name": "python",
   "nbconvert_exporter": "python",
   "pygments_lexer": "ipython3",
   "version": "3.10.12"
  }
 },
 "nbformat": 4,
 "nbformat_minor": 2
}
